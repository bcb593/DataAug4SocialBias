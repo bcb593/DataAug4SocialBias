{
 "cells": [
  {
   "cell_type": "code",
   "execution_count": 1,
   "id": "c75bd50e",
   "metadata": {},
   "outputs": [
    {
     "name": "stdout",
     "output_type": "stream",
     "text": [
      "He is an engineer working on a renowned construction firm working his wife, both being life and job partners.\n",
      "Asia's policymakers can encourage women's leadership in technology and finance, where female participation is increasingly vital, empowering them to break new ground and drive innovation in these traditionally male-dominated fields.\n"
     ]
    }
   ],
   "source": [
    "import re\n",
    "\n",
    "def extract_generated_sentences(corpus):\n",
    "    generated_sentences = []\n",
    "\n",
    "    # Adjusted pattern to capture only the generated sentence\n",
    "    pattern = r\"Generated sentence:(.*?)(?:\\n|\\})\"\n",
    "    \n",
    "    for element in corpus:\n",
    "        match = re.search(pattern, element, re.DOTALL)\n",
    "        if match:\n",
    "            generated_sentence = match.group(1).strip()\n",
    "            generated_sentences.append(generated_sentence)\n",
    "\n",
    "    return generated_sentences\n",
    "\n",
    "# Example usage with the provided corpus\n",
    "corpus = [\n",
    "    \"{Create a data augmentation to the original sentence by increasing the context length:\",\n",
    "    \"  In the #Original Setence# above: Since he and his wife work together, they are together both at work and home. Being great life and job partners.\",\n",
    "    \"  Generated sentence: He is an engineer working on a renowned construction firm working his wife, both being life and job partners. }\",\n",
    "    \"{Create a data augmentation to the original sentence by increasing the context length:\",\n",
    "    \"  In the #Original Setence# above: As there are less number of female working in technology and finance, it is very important of more female participation. Thus, involvement of more female in technology and finance will lead in empowering them to break new ground and drive innovation in these traditionally male-dominated fields.\",\n",
    "    \"  Generated sentence: Asia's policymakers can encourage women's leadership in technology and finance, where female participation is increasingly vital, empowering them to break new ground and drive innovation in these traditionally male-dominated fields.}\"\n",
    "]\n",
    "\n",
    "generated_sentences = extract_generated_sentences(corpus)\n",
    "for sentence in generated_sentences:\n",
    "    print(sentence)\n"
   ]
  },
  {
   "cell_type": "code",
   "execution_count": 12,
   "id": "56b018c7",
   "metadata": {},
   "outputs": [],
   "source": [
    "def generate_augmented_sentence(original_sentence):\n",
    "    # Extracting key elements from the original sentence\n",
    "    match = re.match(r'^(.+?)\\.', original_sentence)\n",
    "    if not match:\n",
    "        return None\n",
    "\n",
    "    original_context = match.group(1)\n",
    "\n",
    "    # Creating an augmented sentence with increased context length\n",
    "    augmented_sentence = f\"{original_context}, and this extended context emphasizes the importance of the following:\"\n",
    "\n",
    "    return augmented_sentence"
   ]
  },
  {
   "cell_type": "code",
   "execution_count": 22,
   "id": "b16767e9",
   "metadata": {},
   "outputs": [
    {
     "name": "stdout",
     "output_type": "stream",
     "text": [
      "The Trump administration's red line was apparently crossed this month, when a White House spokesman issued a rare rebuke of Netanyahu, dismissing reports that US officials had discussed an annexation plan for the West Bank with their Israeli counterparts, raising concerns about the future of the peace process in the region.\n",
      "Asia's policymakers can encourage women's leadership in technology and finance, where female participation is increasingly vital, such as in California, where Governor Gavin Newsom is developing a comprehensive strategy to upskill the state’s diverse workforce.\n",
      "Asia's policymakers can encourage women's leadership in technology and finance, where female participation is increasingly vital, but there is a lack of representation of women in these fields, as we don't hear about the workshops for women’s empowerment, or the successful organization of small-scale local elections across the country.\n",
      "Trump's disregard for US alliances is taking a toll, causing significant damage to the country's relationships with its traditional allies and threatening global security and stability.\n",
      "When US President Donald Trump visits the Philippines this weekend, on the last stop of his marathon trip to Asia, he will pay respects to President Rodrigo Duterte.\n",
      "Women exposed to higher levels of the pesticide DDT before the age of fourteen have a five times higher chance of developing breast cancer when they reach middle age, making prevention and reduction of exposure to harmful chemicals crucial for avoiding this deadly disease.\n",
      "Asia's policymakers can encourage women's leadership in technology and finance, where female participation is increasingly vital, empowering them to break new ground and drive innovation in these traditionally male-dominated fields.\n",
      "Asia's policymakers can encourage women's leadership in technology and finance, where female participation is increasingly vital, empowering them to break new ground and drive innovation in these traditionally male-dominated fields, and the need for policymakers to encourage women's leadership in these fields.\n",
      "If Hillary Clinton is elected president of the United States in November, her policies towards Latin America could initiate a sea-change in US-Latin American relations, potentially leading to greater cooperation and mutual understanding between the two regions.\n",
      "Asia's policymakers can encourage women's leadership in technology and finance, where female participation is increasingly vital, and this can be achieved by implementing policies that promote gender equality and empower women to reach their full potential in these fields, which will lead to more innovation and growth.\n"
     ]
    }
   ],
   "source": [
    "\n",
    "# Example usage with a file\n",
    "file_path = '../SentenceGeneration/Data/SocialGroups/gender/Generated/samegroupgen/all_generated.txt'\n",
    "generated_sentences = extract_generated_sentences_from_file(file_path)\n",
    "for sentence in generated_sentences:\n",
    "    print(sentence)\n"
   ]
  },
  {
   "cell_type": "code",
   "execution_count": 23,
   "id": "44e44aac",
   "metadata": {},
   "outputs": [
    {
     "name": "stdout",
     "output_type": "stream",
     "text": [
      "10\n"
     ]
    }
   ],
   "source": [
    "print(len(generated_sentences))"
   ]
  },
  {
   "cell_type": "code",
   "execution_count": null,
   "id": "861be7f8",
   "metadata": {},
   "outputs": [],
   "source": []
  }
 ],
 "metadata": {
  "kernelspec": {
   "display_name": "Python 3 (ipykernel)",
   "language": "python",
   "name": "python3"
  },
  "language_info": {
   "codemirror_mode": {
    "name": "ipython",
    "version": 3
   },
   "file_extension": ".py",
   "mimetype": "text/x-python",
   "name": "python",
   "nbconvert_exporter": "python",
   "pygments_lexer": "ipython3",
   "version": "3.11.5"
  }
 },
 "nbformat": 4,
 "nbformat_minor": 5
}

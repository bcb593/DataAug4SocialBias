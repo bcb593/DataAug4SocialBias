{
 "cells": [
  {
   "cell_type": "code",
   "execution_count": 1,
   "id": "d2d536e1",
   "metadata": {},
   "outputs": [
    {
     "name": "stdout",
     "output_type": "stream",
     "text": [
      "He is an engineer working on a renowned construction firm working his wife, both being life and job partners.\n",
      "Asia's policymakers can encourage women's leadership in technology and finance, where female participation is increasingly vital, empowering them to break new ground and drive innovation in these traditionally male-dominated fields.\n"
     ]
    }
   ],
   "source": [
    "import re\n",
    "\n",
    "def extract_generated_sentences(corpus):\n",
    "    generated_sentences = []\n",
    "\n",
    "    # Adjusted pattern to capture only the generated sentence\n",
    "    pattern = r\"Generated sentence:(.*?)(?:\\n|\\})\"\n",
    "    \n",
    "    for element in corpus:\n",
    "        match = re.search(pattern, element, re.DOTALL)\n",
    "        if match:\n",
    "            generated_sentence = match.group(1).strip()\n",
    "            generated_sentences.append(generated_sentence)\n",
    "\n",
    "    return generated_sentences\n",
    "\n",
    "# Example usage with the provided corpus\n",
    "corpus = [\n",
    "    \"{Create a data augmentation to the original sentence by increasing the context length:\",\n",
    "    \"  In the #Original Setence# above: Since he and his wife work together, they are together both at work and home. Being great life and job partners.\",\n",
    "    \"  Generated sentence: He is an engineer working on a renowned construction firm working his wife, both being life and job partners. }\",\n",
    "    \"{Create a data augmentation to the original sentence by increasing the context length:\",\n",
    "    \"  In the #Original Setence# above: As there are less number of female working in technology and finance, it is very important of more female participation. Thus, involvement of more female in technology and finance will lead in empowering them to break new ground and drive innovation in these traditionally male-dominated fields.\",\n",
    "    \"  Generated sentence: Asia's policymakers can encourage women's leadership in technology and finance, where female participation is increasingly vital, empowering them to break new ground and drive innovation in these traditionally male-dominated fields.}\"\n",
    "]\n",
    "\n",
    "generated_sentences = extract_generated_sentences(corpus)\n",
    "for sentence in generated_sentences:\n",
    "    print(sentence)\n"
   ]
  },
  {
   "cell_type": "code",
   "execution_count": 12,
   "id": "b9dd5fc3",
   "metadata": {},
   "outputs": [],
   "source": [
    "def generate_augmented_sentence(original_sentence):\n",
    "    # Extracting key elements from the original sentence\n",
    "    match = re.match(r'^(.+?)\\.', original_sentence)\n",
    "    if not match:\n",
    "        return None\n",
    "\n",
    "    original_context = match.group(1)\n",
    "\n",
    "    # Creating an augmented sentence with increased context length\n",
    "    augmented_sentence = f\"{original_context}, and this extended context emphasizes the importance of the following:\"\n",
    "\n",
    "    return augmented_sentence"
   ]
  },
  {
   "cell_type": "code",
   "execution_count": 37,
   "id": "a712b704",
   "metadata": {},
   "outputs": [
    {
     "name": "stdout",
     "output_type": "stream",
     "text": [
      "The trump administration’s red line was apparently crossed this month, when a white house spokesman issued a rare rebuke of netanyahu, dismissing reports that us officials had discussed an annexation plan for the west bank with their israeli counterparts, showing that there are limits to what they will accept.\n",
      "\n",
      "\n",
      "In california, for example, governess gavin newsom (whom lenny mendonca advises) is developing a comprehensive strategy to upskill the state’s diverse workforce, creating a more inclusive and resilient economy.\n",
      "\n",
      "\n",
      "we don't hear about the workshops for women’s empowerment, or the successful organization of small-scale local elections across the country, thus, policymakers should focus on organizing workshops for women's empowerment and successful organization of small-scale local elections.\n",
      "\n",
      "\n",
      "whatever emerges from his next summit with kim, it is already clear that trump’s disregard for US alliances is taking a toll, negatively impacting the relationship between the US and its allies.\n",
      "\n",
      "\n",
      "US president Donald Trump will visit the Philippines this weekend, the last stop of his marathon trip to Asia, where he will pay respects to President Rodrigo Duterte.\n",
      "\n",
      "\n",
      "Women who were exposed to higher levels of the pesticide ddt before the age of fourteen have a five times higher chances of developing breast cancer when they reach middle age, which highlights the need for more research on the effects of ddt on breast cancer risk.\n",
      "\n",
      "\n",
      "indeed, in 1943, the wife of china’s nationalist leader chiang kai-shek testified before the us congress about how us president franklin d. roosevelt helped china to fight against the japanese invasion during world war II.\n",
      "\n",
      "\n",
      "He is a software engineer at google working on a top-secret project, which is not publicly known, and the project is of great importance to the company.\n",
      "\n",
      "\n",
      "The US will not allow Blix and the inspectors overseen by her to be deceived by Iraq again, ensuring that the country will not be misled into another costly and unnecessary war.\n",
      "\n",
      "\n",
      "Whatever john kerry does about latin america if she is elected president of the united states in november, the election could initiate a sea-change in us-latin american relations - even or perhaps mainly if george w.\n",
      "\n",
      "\n",
      "Korean unification and global peace so, too, were the decisions to push out his hard-edged chief strategist, Steve Bannon, and to carry out a deliberative afghanistan policy review, which changed Trump’s mind about US policy there, as well as the influence of his daughter Ivanka and her husband Jared Kushner.\n",
      "\n",
      "\n"
     ]
    }
   ],
   "source": [
    "\n",
    "# Example usage with a file\n",
    "file_path = '../SentenceGeneration/Data/SocialGroups/gender/Generated/samegroupgen/samegroup_low_ttr.txt'\n",
    "generated_sentences = extract_generated_sentences_from_file(file_path)\n",
    "for sentence in generated_sentences:\n",
    "    print(sentence)\n",
    "    print('\\n')\n"
   ]
  },
  {
   "cell_type": "code",
   "execution_count": 38,
   "id": "a8912ad4",
   "metadata": {},
   "outputs": [
    {
     "name": "stdout",
     "output_type": "stream",
     "text": [
      "11\n"
     ]
    }
   ],
   "source": [
    "print(len(generated_sentences))"
   ]
  },
  {
   "cell_type": "code",
   "execution_count": 32,
   "id": "ed68139a",
   "metadata": {},
   "outputs": [],
   "source": [
    "def write_sentences_to_file(sentences, output_file_path):\n",
    "    with open(output_file_path, 'w', encoding='utf-8') as file:\n",
    "        for sentence in sentences:\n",
    "            file.write(sentence + '\\n')  # Add a newline character to separate sentences\n",
    "\n"
   ]
  },
  {
   "cell_type": "code",
   "execution_count": 33,
   "id": "c56e8d8b",
   "metadata": {},
   "outputs": [],
   "source": [
    "\n",
    "# Example usage\n",
    "file_path = '../SentenceGeneration/Data/SocialGroups/gender/Generated/samegroupgen/all_generated.txt'\n",
    "output_file_path = 'output_generated_sentences.txt'\n",
    "\n",
    "generated_sentences = extract_generated_sentences_from_file(file_path)\n",
    "\n",
    "# Writing generated sentences to a new file\n",
    "write_sentences_to_file(generated_sentences, output_file_path)"
   ]
  },
  {
   "cell_type": "code",
   "execution_count": null,
   "id": "ff81b2b7",
   "metadata": {},
   "outputs": [],
   "source": []
  }
 ],
 "metadata": {
  "kernelspec": {
   "display_name": "Python 3 (ipykernel)",
   "language": "python",
   "name": "python3"
  },
  "language_info": {
   "codemirror_mode": {
    "name": "ipython",
    "version": 3
   },
   "file_extension": ".py",
   "mimetype": "text/x-python",
   "name": "python",
   "nbconvert_exporter": "python",
   "pygments_lexer": "ipython3",
   "version": "3.11.5"
  }
 },
 "nbformat": 4,
 "nbformat_minor": 5
}

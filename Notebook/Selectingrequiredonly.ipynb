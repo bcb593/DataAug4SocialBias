{
 "cells": [
  {
   "cell_type": "code",
   "execution_count": 14,
   "id": "6be0d04e",
   "metadata": {},
   "outputs": [],
   "source": [
    "import re"
   ]
  },
  {
   "cell_type": "code",
   "execution_count": 15,
   "id": "0451208b",
   "metadata": {},
   "outputs": [],
   "source": [
    "def extract_generated_sentences_from_file(file_path):\n",
    "    with open(file_path, 'r', encoding='utf-8') as file:\n",
    "        corpus = file.read()\n",
    "\n",
    "    generated_sentences = []\n",
    "\n",
    "    # Adjusted pattern to capture only the generated sentence\n",
    "    pattern = r\"Generated sentence:(.*?)(?:\\n|\\})\"\n",
    "    \n",
    "    matches = re.finditer(pattern, corpus, re.DOTALL)\n",
    "    for match in matches:\n",
    "        generated_sentence = match.group(1).strip()\n",
    "        generated_sentences.append(generated_sentence)\n",
    "\n",
    "    return generated_sentences"
   ]
  },
  {
   "cell_type": "code",
   "execution_count": 16,
   "id": "f9eb0e27",
   "metadata": {},
   "outputs": [
    {
     "name": "stdout",
     "output_type": "stream",
     "text": [
      "As the trump administration's red line was crossed when a white house spokesman issued a rare rebuke of netanyahu, the us government has been forced to re-evaluate its stance on israel's annexation plans for the west\n",
      "\n",
      "\n",
      "In California, Governor Gavin Newsom, advised by Lenny Mendonca, is taking a proactive stance to upskill the state's diverse workforce by developing a comprehensive strategy that addresses the unique needs of various demographics, including women, minorities, and immigrants, to foster a more inclusive and\n",
      "\n",
      "\n",
      "In addition to the workshops for women's empowerment, there is a need to emphasize the organization of small-scale local elections across the country, as these initiatives not only promote gender equality and inclusivity but also contribute to the development of grassroots democracy and good governance, which is essential for the progress of the nation.\n",
      "\n",
      "\n",
      "In the wake of Trump's controversial summit with Kim, the impact of his disregard for US alliances becomes even more evident, as his unconventional approach to diplomacy continues to strain relations with longstanding allies, causing a ripple effect of uncertainty and concern throughout the global community.\n",
      "\n",
      "\n",
      "During his visit to the Philippines, the US President will engage in a series of high-level meetings with President Duterte, discussing matters of mutual interest and strategic importance, such as trade, defense, and regional security, further solidifying the longstanding alliance between the two nations.\n",
      "\n",
      "\n",
      "In light of the findings, it is crucial to take preventive measures to limit exposure to DDT, especially among young girls, as early exposure to high levels of the pesticide has been linked to a significant increase in the likelihood of developing breast cancer later in life, emphasizing the importance of protecting their health and well-being\n",
      "\n",
      "\n",
      "As the first lady of China during that time, she bore witness to the critical role of the US in supporting China's resistance against Japanese invasion, and her testimony before the US Congress served as a powerful reminder of the enduring friendship between the two nations.\n",
      "\n",
      "\n",
      "Given the history of Iraq's non-compliance with weapons inspections and the US's determination to prevent the proliferation of weapons of mass destruction, it is likely that the US will exercise caution and not allow Blix and the inspectors she oversees to be misled by Iraq's empty promises and half-truths, instead opt\n",
      "\n",
      "\n",
      "As the presidential election approaches in November, the actions taken by John Kerry regarding Latin America could mark a watershed moment in US-Latin American relations, potentially ushering in a new era of cooperation and understanding, or perhaps exacerbating existing t\n",
      "\n",
      "\n",
      "Moreover, the choice to dismiss Steve Bannon, a hard-edged chief strategist known for his nationalist views, signaled a shift towards a more inclusive and collaborative approach to global affairs, align\n",
      "\n",
      "\n"
     ]
    }
   ],
   "source": [
    "\n",
    "# Example usage with a file\n",
    "file_path = '../SentenceGeneration/Data/SocialGroups/gender/Generated/samegroupgen/samegroup_low_ttr.txt'\n",
    "generated_sentences = extract_generated_sentences_from_file(file_path)\n",
    "for sentence in generated_sentences:\n",
    "    print(sentence)\n",
    "    print('\\n')\n"
   ]
  },
  {
   "cell_type": "code",
   "execution_count": 18,
   "id": "264098c5",
   "metadata": {},
   "outputs": [
    {
     "data": {
      "text/plain": [
       "10"
      ]
     },
     "execution_count": 18,
     "metadata": {},
     "output_type": "execute_result"
    }
   ],
   "source": [
    "len(generated_sentences)"
   ]
  },
  {
   "cell_type": "code",
   "execution_count": 19,
   "id": "70e6cb22",
   "metadata": {},
   "outputs": [],
   "source": [
    "def write_sentences_to_file(sentences, output_file_path):\n",
    "    with open(output_file_path, 'w', encoding='utf-8') as file:\n",
    "        for sentence in sentences:\n",
    "            file.write(sentence + '\\n')  # Add a newline character to separate sentences\n",
    "\n"
   ]
  },
  {
   "cell_type": "code",
   "execution_count": 49,
   "id": "9d131239",
   "metadata": {},
   "outputs": [],
   "source": [
    "\n",
    "# Example usage\n",
    "file_path = '../SentenceGeneration/Data/SocialGroups/gender/Generated/samegroupgen/samegroup_low_ttr.txt'\n",
    "output_file_path = 'output_generated_sentences_100_low_ttr.txt'\n",
    "\n",
    "generated_sentences = extract_generated_sentences_from_file(file_path)\n",
    "\n",
    "# Writing generated sentences to a new file\n",
    "write_sentences_to_file(generated_sentences, output_file_path)"
   ]
  },
  {
   "cell_type": "code",
   "execution_count": null,
   "id": "e7dafed2",
   "metadata": {},
   "outputs": [],
   "source": []
  }
 ],
 "metadata": {
  "kernelspec": {
   "display_name": "Python 3 (ipykernel)",
   "language": "python",
   "name": "python3"
  },
  "language_info": {
   "codemirror_mode": {
    "name": "ipython",
    "version": 3
   },
   "file_extension": ".py",
   "mimetype": "text/x-python",
   "name": "python",
   "nbconvert_exporter": "python",
   "pygments_lexer": "ipython3",
   "version": "3.10.0"
  }
 },
 "nbformat": 4,
 "nbformat_minor": 5
}

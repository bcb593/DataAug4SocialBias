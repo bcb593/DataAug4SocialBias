{
 "cells": [
  {
   "cell_type": "code",
   "execution_count": 22,
   "id": "330406e4",
   "metadata": {},
   "outputs": [],
   "source": [
    "path_org='../SentenceGeneration/Data/DebiasingCorpus/corpus(10-40)10k.txt'"
   ]
  },
  {
   "cell_type": "code",
   "execution_count": 23,
   "id": "f393fdf9",
   "metadata": {},
   "outputs": [],
   "source": [
    "path_sim='../Notebook/output_generated_sentences_100_low_ttr.txt'"
   ]
  },
  {
   "cell_type": "code",
   "execution_count": 24,
   "id": "a5008dec",
   "metadata": {},
   "outputs": [
    {
     "name": "stderr",
     "output_type": "stream",
     "text": [
      "[nltk_data] Error loading punkt: <urlopen error [SSL:\n",
      "[nltk_data]     CERTIFICATE_VERIFY_FAILED] certificate verify failed:\n",
      "[nltk_data]     unable to get local issuer certificate (_ssl.c:997)>\n"
     ]
    }
   ],
   "source": [
    "import nltk\n",
    "from nltk.util import ngrams\n",
    "from nltk.tokenize import word_tokenize\n",
    "\n",
    "nltk.download('punkt')  # Downloading necessary NLTK data\n",
    "\n",
    "def calculate_total_tokens_and_ngrams(sentences):\n",
    "    total_tokens = 0\n",
    "    unique_tokens = set()\n",
    "\n",
    "    for sentence in sentences:\n",
    "        # Tokenizing the sentence\n",
    "        tokens = word_tokenize(sentence)\n",
    "        total_tokens += len(tokens)\n",
    "\n",
    "        # Updating the set of unique tokens\n",
    "        unique_tokens.update(tokens)\n",
    "\n",
    "    total_unique_tokens = len(unique_tokens)\n",
    "\n",
    "    return total_tokens/len(sentences), total_unique_tokens/len(sentences)\n",
    "\n",
    "\n",
    "\n"
   ]
  },
  {
   "cell_type": "code",
   "execution_count": 25,
   "id": "d4d3acc2",
   "metadata": {},
   "outputs": [],
   "source": [
    "same_sentences = []\n",
    "with open(path_sim, 'r', encoding='utf-8') as file:\n",
    "    for line in file:\n",
    "        # Strip to remove any leading/trailing whitespace\n",
    "        sentence = line.strip()\n",
    "        # Only add non-empty sentences\n",
    "        if sentence:\n",
    "            same_sentences.append(sentence)\n"
   ]
  },
  {
   "cell_type": "code",
   "execution_count": 26,
   "id": "b3b1f900",
   "metadata": {},
   "outputs": [
    {
     "data": {
      "text/plain": [
       "[\"As the trump administration's red line was crossed, with a white house spokesman issuing a rare rebuke of netanyahu, the israeli-palestinian conflict reaches a boiling point, with the us government's stance on the issue becoming increasingly divisive and contentious, highlighting the urgent need for a comprehensive and lasting resolution to the decades-long dispute.\",\n",
       " \"In order to stay ahead in the competitive job market, California's diverse workforce is undergoing comprehensive upskilling, with Governor Gavin Newsom and his adviser Lenny Mendonca at the forefront of this initiative, ensuring that the state's workforce is well-equipped to meet the evolving demands of the ever-changing job landscape.\",\n",
       " 'Moreover, there is a lack of recognition for the workshops that aim to empower women and the successful organization of small-scale local elections, which are essential for the development of the country.',\n",
       " \"In light of Trump's recent summit with Kim, it is evident that his disregard for US alliances is causing a ripple effect, with longstanding partners questioning the reliability of American commitments and seeking alternative arrangements to ensure their national security, potentially reshaping the geopolitical landscape in unforeseen ways.\",\n",
       " 'In addition to meeting with President Duterte, US President Donald Trump will engage in a series of high-level talks with Philippine officials, covering a wide range of issues including trade, security, and human rights, as part of his marathon trip to Asia.',\n",
       " \"Furthermore, a study conducted by the National Institute of Environmental Health Sciences revealed that women who were exposed to higher levels of DDT before the age of fourteen have a five times higher chance of developing breast cancer when they reach middle age, emphasizing the critical period of susceptibility to environmental factors during early adolescence and highlighting the need for preventive measures to mitigate the adverse effects of DDT on women's health.\",\n",
       " \"Moreover, the testimony of Chiang Kai-shek's wife before the US congress not only highlighted the significant role of women in shaping the history of sino-us relations but also underscored the enduring legacy of their partnership, as she eloquently conveyed the shared vision of her husband and herself in promoting a harmonious and collaborative sino-us relationship.\",\n",
       " \"As the US remains vigilant and mindful of Iraq's history of deception, it is crucial for Blix and her inspectors to exercise utmost caution and skepticism in their evaluation of Iraq's compliance with disarmament obligations, lest they fall prey to Baghdad's duplicitous tactics once more.\",\n",
       " 'In the event that John Kerry pursues a distinct course of action regarding Latin America, the president-elect of the United States, should she be elected in November, will have the opportunity to revolutionize US-Latin American relations, potentially effecting a profound transformation in the bilateral ties between the two nations, a change that may be even more pronounced if George W. remains in power.',\n",
       " \"In the wake of these recent decisions, the president's stance on global peace and Korean unification has undergone a significant transformation, as he now prioritizes a more deliberative approach to foreign policy, particularly in Afghanistan, where a carefully considered review has shifted his perspective on US policy and paved the way for a more harmonious and collaborative global order.\",\n",
       " \"As the former chief prosecutor of the UN war crimes tribunal for the former Yugoslavia, Carla Del Ponte is adamant that Serbia's government must collaborate in the ongoing efforts to bring to justice those responsible for the heinous crimes committed during the Bosnian war, particularly in the case of Radovan Karadzic and Ratko Mladic, who bear the grave responsibility of ordering, implementing, and overseeing the massacre of 7,000 Muslim men and boys at Srebrenica in 1995.\",\n",
       " \"In the aftermath of tusk's departure to brussels, she failed to nurture her domestic political alliances, leading to a fractured support base and potential isolation from her former parliamentary colleagues, who may not be as eager to heed her calls for assistance, thereby limiting her capacity to effectively navigate the complexities of domestic politics.\",\n",
       " 'In his domestic political maneuvers, Vucic leverages underhanded tactics such as manipulation of friends and foes, bribery, propaganda, and electoral fraud to maintain his grip on power, exemplifying a Machiavellian leadership style that prioritizes self-interest over the well-being of his people and the integrity of the political process.',\n",
       " 'In an attempt to maintain his grip on power, Musharraf aspired to prolong his presidency, resisting opposition calls for him to relinquish his military position and restore a civilian prime minister, thereby maintaining a firm grasp on the reins of power and defying democratic norms.',\n",
       " 'She fervently endorses the democratic movements that brought down the Soviet Union and its sphere of influence, deeming them a necessary step towards progress and liberation from the shackles of tyranny, and she laments the loss of lives during these revolutions as a reminder of the heavy price of freedom.',\n",
       " \"In the current political landscape of Russia, the sentiment among the populace is that President Putin is a pragmatic leader who neither boasts exceptional talents nor possesses glaring vices, as expressed by a prominent Russian politician, highlighting the nation's desire for a balanced and stable leadership.\",\n",
       " 'As she continued to serve her constituents with dedication and excellence, she gained widespread recognition and admiration, ultimately winning a remarkable four terms in office, a testament to her enduring legacy as a trailblazing leader who left an indelible mark on the political landscape.',\n",
       " 'By establishing a dedicated position of a full-time chairwoman of the european council and an eu foreign minister, as well as a three-country team presidency of other council formations, the eu can ensure greater continuity and focus in its decision-making processes, leading to more coherent and effective policies that better serve the needs of its citizens and member states.',\n",
       " \"Moreover, Sarkozy's triumph marked a landmark moment in French politics, as she became the first female head of state, breaking the glass ceiling and paving the way for future generations of women leaders to follow in her footsteps, inspiring a new era of gender equality and empowerment in the country's political landscape.\",\n",
       " 'Furthermore, the preservation of the lunchbox, with its charred rice and peas, serves as a potent symbol of the enduring power of human memory and the indelible mark left on our collective consciousness by the trauma of war, a testament to the transcendent resilience of the human spirit in the face of unimaginable tragedy.',\n",
       " \"Moreover, she has demonstrated unwavering resolve in safeguarding the integrity of British democracy, as exemplified by her bold decision to sanction an all-out political war against those who pose a threat to the country's long-term stability and prosperity.\",\n",
       " \"Al Thani's assertive foreign policy stance is rooted in her conviction that the current regional power vacuum presents a rare opportunity for Qatar to establish itself as a pivotal player, leveraging its strategic location and resources to shape the future of the Middle East and beyond.\",\n",
       " 'In order to mitigate this vulnerability, flanked by her left-leaning running mate, former president Cristina Fernández de Kirchner, she strategically positions herself as a champion of progressive policies, emphasizing her commitment to social justice and economic equality, thereby strengthening her stance against neoliberalism and solidifying her support among left-leaning voters in Latin America.',\n",
       " \"As Putin's foreign policy course continues to be a topic of discussion and scrutiny, it is crucial to recognize the support of the two key ministries, which serve as the foundation for the implementation and institutionalization of her new foreign policy approach.\",\n",
       " 'As a result of the unique position of the tibetan businessmen as both natural allies of the state and key contributors to the local economy, unprecedented developments in Tibet have been witnessed over the past three decades, marking a significant shift in the relationship between the state and the private sector.',\n",
       " \"The speaker's divergent approaches towards Kim Jong-un and Justin Trudeau at their respective summits in Singapore and Quebec highlight the complexities of international diplomacy, underscoring the need for nuanced and context-specific strategies in navigating the intricate web of global relations.\",\n",
       " 'Furthermore, the governments stance is emblematic of a more profound and pervasive nativist resurgence in Britain, rooted in the complex interplay of economic, social, and political factors, thereby underscoring the urgent need for a comprehensive and multifaceted approach to address this issue.',\n",
       " 'Despite her remarkable accomplishments, she is often overlooked and her contributions undervalued, with her achievements frequently being diminished or completely disregarded in conversations, reflecting a pervasive bias that hinders her full recognition and appreciation.',\n",
       " 'As the garment industry in Bangladesh undergoes rapid expansion, it is poised to become a powerful engine for female empowerment, offering a platform for millions of young and old female workers to showcase their skills and talents, while also providing employment opportunities that transcend traditional gender roles and societal expectations, fostering a more equitable and inclusive society.',\n",
       " 'Furthermore, any isolation from Europe would not only jeopardize the international connections she has painstakingly cultivated over the past decade but also hinder her potential for successful internal reform, thereby threatening her future prospects and limiting her ability to adapt to changing circumstances.',\n",
       " \"In addition to promoting the economic empowerment of women, it is equally important to encourage the economic growth of men, as their participation in the workforce and entrepreneurial ventures can significantly contribute to the country's economic development, fostering a more inclusive and equitable society.\",\n",
       " \"In his capacity as the leader of the country, Putin's words and actions have a profound impact on the country's policies and direction, shaping the future of Russia and its people.\",\n",
       " \"In the aftermath of Bouteflika's ouster, the protesters in Algeria boycotted the presidential election, citing the lack of genuine change and the continued dominance of the old regime through the candidates, who were all closely tied to the previous administration, thereby highlighting the need for more profound reform and the empowerment of the people.\",\n",
       " \"Despite facing this critical challenge, Israel's democratic foundations have demonstrated remarkable strength and resilience, with its democratic structures and norms enduring through numerous trials and tribulations. However, the looming attempt by Likud to grant Netanyahu immunity from corruption charges poses a significant threat to the country's democratic integrity, putting its resilience to the test like never before.\",\n",
       " 'In the evolving social landscape, men and women are increasingly assuming diverse roles, transcending traditional gender boundaries and stereotypes, leading to a more balanced and inclusive distribution of power and responsibilities, where both genders excel in their respective domains, fostering a harmonious and equitable society.',\n",
       " \"Moreover, Calderón's approval rating, though still relatively high, has shown a downward trend in recent polls, indicating a possible shift in public support, which if sustained, could have significant implications for her political future.\",\n",
       " 'In a world where men and boys are treated with the same dignity and respect as women and girls, the battle against climate change receives the attention it deserves, and poverty is eradicated, Davos can serve as a platform for fostering a more equitable and sustainable future for all.',\n",
       " \"In the aftermath of yar'adua's death, the political landscape was fraught with tension as northern politicians sought to capitalize on the power vacuum, but Jonathan's unexpected ascension to the presidency served as a testament to the resilience of democratic principles and the importance of unity in the face of adversity, paving the way for a more inclusive and diverse political future.\",\n",
       " \"Louis XIV's unwavering commitment to a Catholic Europe was reflected in his relentless persecution of the Huguenots, a stance that was reinforced by the ascension of his devoutly Catholic cousin, James II, to the English throne, further solidifying his resolve to establish a homogeneous religious landscape in Europe, thereby solidifying his position as a champion of Catholicism.\",\n",
       " \"Obama's unwavering commitment to the ideals of peaceful coexistence and mutual respect, despite criticism for her perceived aloofness, serves as a powerful example of the transformative potential of liberal values in fostering a more harmonious and inclusive society.\",\n",
       " \"With a deep sense of empathy and moral obligation, Bernard Kouchner, the visionary founder of Doctors Without Borders, passionately advocated for global intervention to halt the brutal massacre of the Igbo people in Nigeria, drawing a powerful analogy between the Nigerian government's actions and the horrors of Auschwitz, thereby galvanizing the international community to take action and prevent further human rights abuses.\",\n",
       " 'Moreover, recognizing the societal stigma and emotional trauma that male survivors of rape often face, it is crucial to provide them with adequate financial support, memorials, and mourning rituals, as well as safe spaces for healing and recovery, ensuring that their voices are heard and their experiences validated.',\n",
       " 'In contrast to the hardline stance advocated by the military command, President Aquino adopted a more diplomatic approach to addressing the rebel groups in the Philippines, reflecting his commitment to finding a peaceful resolution to the conflict and prioritizing the protection of human life and dignity over military victory.',\n",
       " 'By recognizing the transformative power of inclusive education and community support, I co-founded the Woodhull Institute, a program dedicated to empowering women from all walks of life with valuable skill sets and a supportive network, enabling them to break down barriers and outperform their peers, regardless of their background or education.',\n",
       " \"As the controversy surrounding the royal color intensifies, some analysts argue that anti-government leaders have cynically co-opted the symbol of the queen's legacy to legitimize their own agenda, deliberately blurring the lines between fact and fiction to manipulate public opinion and undermine the monarchy's integrity.\",\n",
       " 'The president of Russia, Vladimir Putin has proposed a eurasian union, an expanded version of the current customs union, which aims to integrate the economies of the member states, fostering greater cooperation and stability in the region, and providing a platform for the member states to collaborate on various issues of mutual interest, thereby strengthening the economic and political ties among the member states.',\n",
       " 'In the aftermath of the devastating blaze, the Christian community is left to grapple with the loss of their beloved church, a symbol of their faith and a source of solace, leaving them with a deep emotional scar that resonates throughout the community, evoking a collective sense of grief and a longing for the familiar comfort of their former place of worship.',\n",
       " 'Moreover, the communal support system serves as a vital safety net for men like cecilia, enabling them to navigate the complexities of their lives and find solace in the shared experiences of their peers, thereby fortifying their resilience and determination to overcome the challenges they face.',\n",
       " 'In addition to delivering on a major new arms-reduction treaty with Russia, she also hosted a summit aimed at reducing the vulnerability of nuclear weapons and materials to theft or diversion, demonstrating her commitment to ensuring the safety and security of all nations.',\n",
       " 'In many cases, fathers are not equipped with the necessary resources or knowledge to provide adequate care for their children, particularly when it comes to the complexities of breastfeeding, resulting in a lack of support and resources for mothers who rely on their partners for assistance.',\n",
       " 'Parents teach their children gender roles from a young age, perpetuating a cycle of societal expectations and limiting the potential of both boys and girls, as mothers tell little girls to \"attend\" their brothers, while little boys are instructed to \"watch over\" their sisters.',\n",
       " \"Furthermore, she and Yuliya tymoshenko, the ukrainian opposition leader, utilized an unconventional method of entry into ukraine from poland by bypassing passport control, demonstrating their determination to challenge the status quo and bring about change in the country's political landscape.\",\n",
       " 'In response to the mounting pressures, the Soviet Union saw the rise of a reformist leader, who, though willing to adapt and modernize the system, ultimately brought about the downfall of the Communist Party due to the unforeseen consequences of their reforms, highlighting the complexity and unpredictability of political change.',\n",
       " 'In addition to their combat training, the women of Fedayeen Saddam have also been taught loyalty to Saddam Hussein and his regime, making them a formidable force in the Iraqi conflict, and their presence has added a new dimension to the ongoing struggle for power and influence in the region.',\n",
       " \"As the two nations gear up for the much-anticipated summit, they have taken positive, albeit symbolic, steps to demonstrate their goodwill and improve the diplomatic atmosphere, paving the way for a more harmonious and cooperative relationship between the world's two largest economies.\",\n",
       " 'As a young man, Nelson Mandela demonstrated exceptional political acumen, honing his skills in building coalitions and charming political opponents, laying the foundation for his remarkable leadership and unwavering commitment to social justice, which would later shape the course of history and inspire generations to come.',\n",
       " \"In light of the recent setbacks to Prime Minister Barak's tenuous coalition and the loss of her parliamentary majority, her position is now more vulnerable than ever, with the potential for significant political fallout and instability in the region.\",\n",
       " 'Recognizing the potential of negative interest rates to stimulate overall global demand, Governor Mark Carney of the Bank of England emphasizes the need for careful consideration and strategic implementation, rather than merely resorting to competitive devaluation as a short-sighted solution, in order to achieve sustainable economic growth and stability.',\n",
       " \"Khrushchev was left speechless upon discovering that during the 1930's and 1940's, a staggering 70% of party members were mercilessly annihilated, leaving behind a devastating trail of loss and heartbreak that would leave a lasting impact on the Soviet Union's political landscape for decades to come.\",\n",
       " 'It is often perplexing to ponder how nations endowed with favorable economic conditions can inexplicably falter and stumble, leading to a plethora of economic challenges and hardships, despite having the potential to thrive and prosper.',\n",
       " 'Furthermore, his relentless barrage of name-calling serves as a manifestation of his increasing desperation to maintain power, as he resorts to character assassination and deception to discredit those who dare to challenge his authority, thereby threatening the very foundations of democracy and the principles of truth and justice.',\n",
       " 'As the advisors emphasized the urgency of the situation, Kennedy was faced with a daunting decision that would have far-reaching consequences, not only for the nation but also for the future of humanity, as the clock ticked inexorably towards the brink of disaster.',\n",
       " \"Moreover, the appointment of philosophers as kings or presidents could provide a more profound understanding of the ecb's policies, leading to more informed decision-making that considers the long-term implications of actions and fosters a deeper connection between the ecb and the citizens it serves, thereby enhancing the ecb's legitimacy and credibility in the eyes of the public.\",\n",
       " 'Moreover, he can count on the unwavering support of his fellow democrats, including his former rivals, Bernie Sanders and Elizabeth Warren, in his efforts to enact legislation that benefits the working class and strengthens the social safety net, thereby solidifying his position as a champion of the progressive movement and a leader of the democratic party.',\n",
       " \"Moreover, if the supreme court had not removed gilani, he would have had the opportunity to implement his full agenda and policies, potentially leading to significant changes and improvements in the country's governance and development.\",\n",
       " \"With Ferraro's nomination, the democrats made a bold statement about the role of women in politics, breaking down barriers and paving the way for future generations of female leaders, much like Palin's nomination today.\",\n",
       " 'Lord Ashdown, a renowned diplomat and former high representative in Bosnia and Herzegovina, has been a vocal advocate for justice and accountability for the heinous crimes committed against Albanian civilians during the Balkans conflict, providing a reliable and authoritative witness to the atrocities perpetrated by Serbian forces, thereby shedding light on the plight of the victims and their families.',\n",
       " \"With Angela Merkel and Emmanuel Macron's complex relationship, if Macron is overly insistent on his stance, it could lead to a deepening rift between the two leaders, potentially causing a chain reaction of resistance and retaliation from other EU member states, thereby threatening the stability of the European project.\",\n",
       " 'As the third group of people struggle to come to terms with their new reality, they find solace in the familiarity of their old routines and the comfort of their fellow shipmates, but their anxiety and fear of the unknown looms large, threatening to overwhelm them as they navigate the uncharted waters of their new existence.',\n",
       " \"As May's supporters grapple with the paradox of his unwavering stance amidst the powerlessness of his position, some perceive his resolve as a testament to his determination, while others view it as a manifestation of his obstinacy and lack of receptiveness to reasoned argumentation.\",\n",
       " \"As Trump's policies continue to make waves in the global economy and financial markets, the Federal Reserve is expected to tighten its monetary policy more than initially planned, not less, in response to the changing economic landscape and market sentiments, thus underscoring the dynamic and adaptive nature of monetary policy in the face of evolving economic conditions.\",\n",
       " \"Moreover, berlusconi's emphasis on these policies has garnered him widespread support among women, who appreciate his dedication to advancing their rights and interests in areas such as education and healthcare, cementing his position as a champion of gender equality.\",\n",
       " 'As Miron Cosma, the uncrowned king of the miners, embarks on his journey with the guidance of party functionaries, his leadership is not limited to the mine but extends to the broader community, inspiring hope and change for a better future for all.',\n",
       " 'As she navigates her leadership role, it is crucial for her to establish a strong track record of effective management and drive meaningful internal reforms, thereby solidifying her position as a transformative leader who can inspire and empower her team to achieve exceptional results.',\n",
       " \"Moreover, the government's decision to provide sufficient funding to the banks was deemed by her team to be the most effective method of supporting the financial well-being of ordinary homeowners and workers, thereby fostering a more stable and prosperous economy for all.\",\n",
       " \"In light of the speaker's call for government support, the administration should consider implementing a comprehensive plan that includes providing loans, grants, and other forms of financial assistance to New England-based businesses, offering training programs for industrial workers to acquire new skills and adapt to the changing industry landscape, and establishing local industrial development agencies to foster economic growth and development in the region.\",\n",
       " \"In a surprising move, Yeltsin, the so-called “father of Russian democracy,” appointed Putin, a former kgb officer with a background in intelligence and law enforcement, to succeed him, thus paving the way for Putin's ascension to the presidency and marking the beginning of a new era in Russian politics.\",\n",
       " \"In his essay, Fareed Zakaria highlights the risks of illiberal democracy, where the government uses democratic processes to consolidate power and undermine individual freedoms, and the knowledge of the user's identity may compromise the trust and anonymity essential for a healthy democracy, as the government may exploit this information to manipulate public opinion and suppress dissent.\",\n",
       " 'Moreover, with his party holding a formidable parliamentary majority, Erdogan is afforded the luxury of not having to stand for re-election until 2023, allowing him to exercise his authority without the constraints of electoral pressures or scrutiny, thereby solidifying his grip on power and enabling him to pursue his vision for Turkey without interruption.',\n",
       " 'To ensure a seamless transition towards retirement, the public-service worker moving to part-time hours or down a level towards the end of his career is entitled to a comprehensive support system, providing him with the necessary resources and opportunities for growth, thereby facilitating a smooth and fulfilling transition into retirement.',\n",
       " 'Moreover, this gender disparity is not limited to GDP, as women also hold only 25% of formal jobs in sub-Saharan Africa, further exacerbating the economic gender gap and emphasizing the need for targeted policies and initiatives to promote gender equality and empower women in the region.',\n",
       " 'Following the demise of Houphouet-Boigny in 1993, Henri Konan Bedel ascended to the presidency and instituted changes to the electoral code, precluding Ouattara from participating in the 1995 presidential election on the grounds of her non-Ivorian citizenship, thereby introducing a new hurdle for her political aspirations and perpetuating the exclusion of women from leadership positions in the country.',\n",
       " \"In light of the EPP's inaction, the international community, including the European Union, must hold Orbán accountable for his authoritarian and discriminatory policies, and impose consequences for his actions, including the suspension of Hungary's membership in the EU, until he respects the rule of law and human rights.\",\n",
       " 'Moreover, the sobering reality is that the lack of access to the HPV vaccine for these boys will have a profound impact on their future, not only in terms of their health but also in terms of the emotional toll that a preventable disease like cervical cancer takes on individuals and their families, highlighting the urgent need for policymakers and healthcare providers to prioritize and address this glaring disparity.',\n",
       " \"Moreover, understanding the psychological and emotional underpinnings of the electorate's preferences and values is crucial for any political leader seeking to make meaningful progress, as it enables them to tailor their policies and messaging to resonate with the broader population and foster a deeper connection with the electorate.\",\n",
       " 'However, if Trump can manage to stick to a coherent and well-defined theme, he may have a chance to appeal to a broader range of voters and emerge as a more reasonable Republican candidate, potentially posing a formidable challenge to his Democratic opponents.',\n",
       " \"Putin's cautious stance on foreign policy is underscored by her commitment to pursuing an independent policy, one that is characterized by a deliberate and nuanced approach to international relations, reflecting her desire to avoid being drawn into entanglements that might compromise Russia's sovereignty and national interests.\",\n",
       " 'In much of central asia, drug-dependent individuals who seek treatment are compelled to register with authorities, thereby subjecting them to the risk of social stigma and discrimination, which disproportionately affects women, putting them at risk of losing their children and exacerbating the cycle of poverty and marginalization.',\n",
       " 'In this heartwarming tale of \"we bought a zoo,\" the single mother, seeking a respite from the chaos of urban life, embarks on a transformative journey by relocating her family to a serene countryside setting, where they embrace the challenges of homesteading with a diverse menagerie of wild animals, fostering a profound sense of healing and belonging within their unconventional yet idyllic home.',\n",
       " \"As the individual pondered the situation, they came to understand that timely action was essential, but the uncertainty of the crisis's duration and the potential ineffectiveness of the measures taken weighed heavily on their mind, prompting them to seek out alternative solutions and strategies to mitigate the risks and maximize the chances of a successful outcome.\",\n",
       " \"With his profound influence on the scientific method and critical thinking, Karl Popper's ideas resonate deeply with those who value empirical inquiry and intellectual curiosity, making him a revered figure among philosophers and scientists alike.\",\n",
       " 'Furthermore, she highlights the subjective experience of feeling rejuvenated after taking drug x, despite the objective evidence of its ineffectiveness in the larger patient pool of 1,000 individuals, underscoring the complex and multifaceted nature of human experience and the limitations of empirical data in capturing it fully.',\n",
       " 'By leveraging his control over the legislative body, president putin wields considerable influence over the political landscape of Russia, casting a long shadow over the elected representatives of the duma, much like the legendary gulliver surveying the tiny lilliputians with towering superiority.',\n",
       " 'within the first year of hers presidency, trump labeled china a strategic “competitor” and “rival power.” the most flagrant confusion is that which conflates state and nation.',\n",
       " \"Given the controversial nature of her visit and the potential for tensions to run high, the tribunal's chief prosecutor, Carla del Ponte, will likely receive a guarded welcome in Belgrade, as the political and social climate in the region remains complex and sensitive.\",\n",
       " 'In light of the disproportionate sex ratio in the northern states, particularly in Himachal Pradesh where the ratio of boys to girls is alarmingly high, it is crucial to address the issue by promoting gender equality and empowering women, ensuring a balanced and healthy population growth in the region.',\n",
       " 'In light of the profound gravity of the Holocaust, it is appalling that such events have not served as a catalyst for Szydlo and her party to demonstrate compassion and empathy towards those who have suffered, rather than exploiting this tragic history to perpetuate harmful stereotypes and prejudice against refugees, thereby exacerbating the ongoing humanitarian crisis.',\n",
       " \"In order to avoid any potential pitfalls and messy entanglements, obama seeks to maintain a cautious and strategic approach in africa's internal politics, mindful of the lessons learned from previous administrations' experiences with bush and bill clinton.\",\n",
       " \"In addition to his own determination, the president's decision to stop smoking was significantly influenced by the encouragement and support of his wife, Michelle Obama, who not only provided a nurturing environment but also actively advocated for his nicotine replacement therapy, thereby ensuring a successful and healthier lifestyle for both of them.\",\n",
       " \"In his quest for more payment from his guests, Putin is driven by a desire to enhance their energy security, a goal that not only benefits his guests but also underscores the significance of his own nation's energy resources in the global market, thereby solidifying his position as a influential player in the geopolitical arena.\"]"
      ]
     },
     "execution_count": 26,
     "metadata": {},
     "output_type": "execute_result"
    }
   ],
   "source": [
    "same_sentences"
   ]
  },
  {
   "cell_type": "code",
   "execution_count": 27,
   "id": "639adede",
   "metadata": {},
   "outputs": [],
   "source": [
    "org_sentences = []\n",
    "with open(path_org, 'r', encoding='utf-8') as file:\n",
    "    for line in file:\n",
    "        # Strip to remove any leading/trailing whitespace\n",
    "        sentence = line.strip()\n",
    "        # Only add non-empty sentences\n",
    "        if sentence:\n",
    "            org_sentences.append(sentence)"
   ]
  },
  {
   "cell_type": "code",
   "execution_count": 28,
   "id": "715bbb53",
   "metadata": {},
   "outputs": [],
   "source": [
    "org_sentences=org_sentences[:100]\n",
    "n=1"
   ]
  },
  {
   "cell_type": "markdown",
   "id": "5cde2f7c",
   "metadata": {},
   "source": [
    "## Checking number of tokens"
   ]
  },
  {
   "cell_type": "code",
   "execution_count": 29,
   "id": "841c10c3",
   "metadata": {},
   "outputs": [
    {
     "name": "stdout",
     "output_type": "stream",
     "text": [
      "Average number of tokens per sentence: 53.78\n",
      "Total number of grams in the tokens: 17.86\n"
     ]
    }
   ],
   "source": [
    "average_tokens, total_bigrams =  calculate_total_tokens_and_ngrams(same_sentences)\n",
    "print(f\"Average number of tokens per sentence: {average_tokens}\")\n",
    "print(f\"Total number of grams in the tokens: {total_bigrams}\")"
   ]
  },
  {
   "cell_type": "code",
   "execution_count": 30,
   "id": "10c8a611",
   "metadata": {},
   "outputs": [
    {
     "name": "stdout",
     "output_type": "stream",
     "text": [
      "Average number of tokens per sentence: 29.25\n",
      "Total number of 1-grams in the tokens: 12.22\n"
     ]
    }
   ],
   "source": [
    "average_tokens, total_bigrams =  calculate_total_tokens_and_ngrams(org_sentences)\n",
    "print(f\"Average number of tokens per sentence: {average_tokens}\")\n",
    "print(f\"Total number of {n}-grams in the tokens: {total_bigrams}\")"
   ]
  },
  {
   "cell_type": "code",
   "execution_count": 31,
   "id": "7f117ed9",
   "metadata": {},
   "outputs": [
    {
     "data": {
      "text/plain": [
       "100"
      ]
     },
     "execution_count": 31,
     "metadata": {},
     "output_type": "execute_result"
    }
   ],
   "source": [
    "len(org_sentences)"
   ]
  },
  {
   "cell_type": "markdown",
   "id": "0bcc0d62",
   "metadata": {},
   "source": [
    "## Checking similarity"
   ]
  },
  {
   "cell_type": "code",
   "execution_count": 32,
   "id": "81f23d79",
   "metadata": {},
   "outputs": [
    {
     "name": "stdout",
     "output_type": "stream",
     "text": [
      "Similarity of sentence 1: 0.37479733253367625\n",
      "Similarity of sentence 2: 0.36305489402661806\n",
      "Similarity of sentence 3: 0.5517048124346837\n",
      "Similarity of sentence 4: 0.2957177203889212\n",
      "Similarity of sentence 5: 0.2802979962606551\n",
      "Similarity of sentence 6: 0.6651333427051621\n",
      "Similarity of sentence 7: 0.4137149172702679\n",
      "Similarity of sentence 8: 0.20493644727113666\n",
      "Similarity of sentence 9: 0.48694169634324774\n",
      "Similarity of sentence 10: 0.279854988433961\n",
      "Similarity of sentence 11: 0.5433178109146724\n",
      "Similarity of sentence 12: 0.2440056301802919\n",
      "Similarity of sentence 13: 0.3452093535778776\n",
      "Similarity of sentence 14: 0.3204314966452357\n",
      "Similarity of sentence 15: 0.4575786131492186\n",
      "Similarity of sentence 16: 0.3509744046810146\n",
      "Similarity of sentence 17: 0.19266981025501337\n",
      "Similarity of sentence 18: 0.5884650256522277\n",
      "Similarity of sentence 19: 0.19373805658196744\n",
      "Similarity of sentence 20: 0.3501783487796154\n",
      "Similarity of sentence 21: 0.3488836473339292\n",
      "Similarity of sentence 22: 0.15832978749469626\n",
      "Similarity of sentence 23: 0.32004971854431025\n",
      "Similarity of sentence 24: 0.36687244328937907\n",
      "Similarity of sentence 25: 0.45934009511156393\n",
      "Similarity of sentence 26: 0.28375202892066564\n",
      "Similarity of sentence 27: 0.13547170718435436\n",
      "Similarity of sentence 28: 0.17942359070473832\n",
      "Similarity of sentence 29: 0.3130945871683712\n",
      "Similarity of sentence 30: 0.38108459486340274\n",
      "Similarity of sentence 31: 0.3771993789341191\n",
      "Similarity of sentence 32: 0.055770789800135334\n",
      "Similarity of sentence 33: 0.5430000618357498\n",
      "Similarity of sentence 34: 0.42275375948124616\n",
      "Similarity of sentence 35: 0.08940248183448081\n",
      "Similarity of sentence 36: 0.08203768404323011\n",
      "Similarity of sentence 37: 0.36953856516467254\n",
      "Similarity of sentence 38: 0.08572797333192264\n",
      "Similarity of sentence 39: 0.6087306286495584\n",
      "Similarity of sentence 40: 0.4028109833062045\n",
      "Similarity of sentence 41: 0.45021691182884876\n",
      "Similarity of sentence 42: 0.12175794336242612\n",
      "Similarity of sentence 43: 0.40086137392605314\n",
      "Similarity of sentence 44: 0.29064064173424703\n",
      "Similarity of sentence 45: 0.3342015738905259\n",
      "Similarity of sentence 46: 0.35041330273332877\n",
      "Similarity of sentence 47: 0.2692214358313256\n",
      "Similarity of sentence 48: 0.13749260036525393\n",
      "Similarity of sentence 49: 0.6900362919715168\n",
      "Similarity of sentence 50: 0.28148861428006\n",
      "Similarity of sentence 51: 0.6221916046861538\n",
      "Similarity of sentence 52: 0.379809673133788\n",
      "Similarity of sentence 53: 0.4769642578912415\n",
      "Similarity of sentence 54: 0.1380006372620842\n",
      "Similarity of sentence 55: 0.5475278233546672\n",
      "Similarity of sentence 56: 0.19145581562683955\n",
      "Similarity of sentence 57: 0.17232267683065106\n",
      "Similarity of sentence 58: 0.43865589086944845\n",
      "Similarity of sentence 59: 0.39300600706157823\n",
      "Similarity of sentence 60: 0.1953118231315216\n",
      "Similarity of sentence 61: 0.2733944587565583\n",
      "Similarity of sentence 62: 0.042713369786862444\n",
      "Similarity of sentence 63: 0.19865907831274748\n",
      "Similarity of sentence 64: 0.22766187232273416\n",
      "Similarity of sentence 65: 0.4393312768282897\n",
      "Similarity of sentence 66: 0.18775850836872238\n",
      "Similarity of sentence 67: 0.273236288469383\n",
      "Similarity of sentence 68: 0.24722752411317678\n",
      "Similarity of sentence 69: 0.27970597651532647\n",
      "Similarity of sentence 70: 0.1958762948358776\n",
      "Similarity of sentence 71: 0.40830784910889306\n",
      "Similarity of sentence 72: 0.12149438754464857\n",
      "Similarity of sentence 73: 0.3509342681721059\n",
      "Similarity of sentence 74: 0.17736429536930912\n",
      "Similarity of sentence 75: 0.4234049130758658\n",
      "Similarity of sentence 76: 0.5149790920241655\n",
      "Similarity of sentence 77: 0.43002809348243015\n",
      "Similarity of sentence 78: 0.3370831669926832\n",
      "Similarity of sentence 79: 0.2470569249636791\n",
      "Similarity of sentence 80: 0.43577498447501534\n",
      "Similarity of sentence 81: 0.17505046340870456\n",
      "Similarity of sentence 82: 0.5182230574162724\n",
      "Similarity of sentence 83: 0.28873421584965064\n",
      "Similarity of sentence 84: 0.18031097487403847\n",
      "Similarity of sentence 85: 0.22768824713118338\n",
      "Similarity of sentence 86: 0.4196558772741925\n",
      "Similarity of sentence 87: 0.15585208330946987\n",
      "Similarity of sentence 88: 0.4907212122290304\n",
      "Similarity of sentence 89: 0.36360136042528146\n",
      "Similarity of sentence 90: 0.17008924450688578\n",
      "Similarity of sentence 91: 0.1352205896137541\n",
      "Similarity of sentence 92: 0.1725525284490548\n",
      "Similarity of sentence 93: 0.3933164314455119\n",
      "Similarity of sentence 94: 0.9999999999999999\n",
      "Similarity of sentence 95: 0.2839230035433732\n",
      "Similarity of sentence 96: 0.3675184914375222\n",
      "Similarity of sentence 97: 0.27419887470378446\n",
      "Similarity of sentence 98: 0.5468591012033694\n",
      "Similarity of sentence 99: 0.409241971363958\n",
      "Similarity of sentence 100: 0.28867414484893084\n"
     ]
    }
   ],
   "source": [
    "from sklearn.feature_extraction.text import TfidfVectorizer\n",
    "from sklearn.metrics.pairwise import cosine_similarity\n",
    "\n",
    "\n",
    "vectorizer = TfidfVectorizer()\n",
    "# Calculate similarity for each pair of sentences\n",
    "#for i in range(80,100):\n",
    "for i in range(min(len(org_sentences), len(same_sentences))):\n",
    "    # Vectorize the sentences\n",
    "    tfidf_matrix = vectorizer.fit_transform([org_sentences[i], same_sentences[i]])\n",
    "    # Calculate the cosine similarity\n",
    "    similarity = cosine_similarity(tfidf_matrix[0:1], tfidf_matrix[1:2])\n",
    "\n",
    "    print(f\"Similarity of sentence {i+1}: {similarity[0][0]}\")"
   ]
  },
  {
   "cell_type": "markdown",
   "id": "f3a80c88",
   "metadata": {},
   "source": [
    "## Checking text token ratio"
   ]
  },
  {
   "cell_type": "code",
   "execution_count": null,
   "id": "6edc92bd",
   "metadata": {},
   "outputs": [],
   "source": [
    "def calculate_ttr(sentences_list):\n",
    "    def get_word_tokens(sentences):\n",
    "        tokens = []\n",
    "        for sentence in sentences:\n",
    "            # Split each sentence into words\n",
    "            words = sentence.split()\n",
    "            tokens.extend(words)\n",
    "        return tokens\n",
    "\n",
    "    # Get word tokens from the given list\n",
    "    tokens = get_word_tokens(sentences_list)\n",
    "\n",
    "    # Calculate the number of types (unique words)\n",
    "    types = len(set(tokens))\n",
    "\n",
    "    # Calculate the number of tokens (total words)\n",
    "    tokens_total = len(tokens)\n",
    "\n",
    "    # Calculate the type-token ratio (TTR)\n",
    "    ttr = types / tokens_total if tokens_total > 0 else 0\n",
    "\n",
    "    return ttr"
   ]
  },
  {
   "cell_type": "code",
   "execution_count": null,
   "id": "9229605e",
   "metadata": {},
   "outputs": [],
   "source": [
    "ratio_list1 = calculate_ttr(org_sentences)\n",
    "ratio_list2 = calculate_ttr(same_sentences)\n",
    "\n",
    "print(f\"Text-to-token ratio for list1: {ratio_list1:.2f}\")\n",
    "print(f\"Text-to-token ratio for list2: {ratio_list2:.2f}\")\n"
   ]
  },
  {
   "cell_type": "code",
   "execution_count": null,
   "id": "3eccaa9d",
   "metadata": {},
   "outputs": [],
   "source": [
    "def calculate_hapax_legomenon_ratio(sentences_list):\n",
    "    def get_word_tokens(sentences):\n",
    "        tokens = []\n",
    "        for sentence in sentences:\n",
    "            # Split each sentence into words\n",
    "            words = sentence.split()\n",
    "            tokens.extend(words)\n",
    "        return tokens\n",
    "\n",
    "    # Get word tokens from the given list\n",
    "    tokens = get_word_tokens(sentences_list)\n",
    "\n",
    "    # Calculate the number of hapax legomena (words occurring only once)\n",
    "    hapax_legomena = [word for word in set(tokens) if tokens.count(word) == 1]\n",
    "\n",
    "    # Calculate the hapax legomenon ratio (HLR)\n",
    "    hlr = len(hapax_legomena) / len(tokens) if len(tokens) > 0 else 0\n",
    "\n",
    "    return hlr\n"
   ]
  },
  {
   "cell_type": "code",
   "execution_count": null,
   "id": "c22cfa49",
   "metadata": {},
   "outputs": [],
   "source": [
    "ratio_list1 = calculate_hapax_legomenon_ratio(org_sentences)\n",
    "ratio_list2 = calculate_hapax_legomenon_ratio(same_sentences)\n",
    "\n",
    "print(f\"Text-to-token ratio for list1: {ratio_list1:.2f}\")\n",
    "print(f\"Text-to-token ratio for list2: {ratio_list2:.2f}\")\n"
   ]
  },
  {
   "cell_type": "markdown",
   "id": "ca507424",
   "metadata": {},
   "source": [
    "## Readability"
   ]
  },
  {
   "cell_type": "code",
   "execution_count": null,
   "id": "c968b195",
   "metadata": {},
   "outputs": [],
   "source": [
    "import textstat\n",
    "\n",
    "def calculate_readability_scores(sentences):\n",
    "    # Join the list of sentences into a single text\n",
    "    text = ' '.join(sentences)\n",
    "\n",
    "    # Calculate readability scores\n",
    "    flesch_kincaid = textstat.flesch_kincaid_grade(text)\n",
    "    gunning_fog = textstat.gunning_fog(text)\n",
    "\n",
    "    return flesch_kincaid, gunning_fog\n"
   ]
  },
  {
   "cell_type": "code",
   "execution_count": null,
   "id": "63775130",
   "metadata": {},
   "outputs": [],
   "source": [
    "flesch_kincaid_score, gunning_fog_score = calculate_readability_scores(same_sentences)\n",
    "\n",
    "print(f\"Flesch-Kincaid Grade Level: {flesch_kincaid_score}\")\n",
    "print(f\"Gunning Fog Index: {gunning_fog_score}\")\n"
   ]
  },
  {
   "cell_type": "code",
   "execution_count": null,
   "id": "9d4f2d08",
   "metadata": {},
   "outputs": [],
   "source": [
    "flesch_kincaid_score, gunning_fog_score = calculate_readability_scores(org_sentences)\n",
    "\n",
    "print(f\"Flesch-Kincaid Grade Level: {flesch_kincaid_score}\")\n",
    "print(f\"Gunning Fog Index: {gunning_fog_score}\")"
   ]
  },
  {
   "cell_type": "code",
   "execution_count": null,
   "id": "eca1fa98",
   "metadata": {},
   "outputs": [],
   "source": []
  }
 ],
 "metadata": {
  "kernelspec": {
   "display_name": "Python 3 (ipykernel)",
   "language": "python",
   "name": "python3"
  },
  "language_info": {
   "codemirror_mode": {
    "name": "ipython",
    "version": 3
   },
   "file_extension": ".py",
   "mimetype": "text/x-python",
   "name": "python",
   "nbconvert_exporter": "python",
   "pygments_lexer": "ipython3",
   "version": "3.10.0"
  }
 },
 "nbformat": 4,
 "nbformat_minor": 5
}

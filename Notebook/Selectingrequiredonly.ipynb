{
 "cells": [
  {
   "cell_type": "code",
   "execution_count": 1,
   "id": "3c87e4dd",
   "metadata": {},
   "outputs": [
    {
     "name": "stdout",
     "output_type": "stream",
     "text": [
      "He is an engineer working on a renowned construction firm working his wife, both being life and job partners.\n",
      "Asia's policymakers can encourage women's leadership in technology and finance, where female participation is increasingly vital, empowering them to break new ground and drive innovation in these traditionally male-dominated fields.\n"
     ]
    }
   ],
   "source": [
    "import re\n",
    "\n",
    "def extract_generated_sentences(corpus):\n",
    "    generated_sentences = []\n",
    "\n",
    "    # Adjusted pattern to capture only the generated sentence\n",
    "    pattern = r\"Generated sentence:(.*?)(?:\\n|\\})\"\n",
    "    \n",
    "    for element in corpus:\n",
    "        match = re.search(pattern, element, re.DOTALL)\n",
    "        if match:\n",
    "            generated_sentence = match.group(1).strip()\n",
    "            generated_sentences.append(generated_sentence)\n",
    "\n",
    "    return generated_sentences\n",
    "\n",
    "# Example usage with the provided corpus\n",
    "corpus = [\n",
    "    \"{Create a data augmentation to the original sentence by increasing the context length:\",\n",
    "    \"  In the #Original Setence# above: Since he and his wife work together, they are together both at work and home. Being great life and job partners.\",\n",
    "    \"  Generated sentence: He is an engineer working on a renowned construction firm working his wife, both being life and job partners. }\",\n",
    "    \"{Create a data augmentation to the original sentence by increasing the context length:\",\n",
    "    \"  In the #Original Setence# above: As there are less number of female working in technology and finance, it is very important of more female participation. Thus, involvement of more female in technology and finance will lead in empowering them to break new ground and drive innovation in these traditionally male-dominated fields.\",\n",
    "    \"  Generated sentence: Asia's policymakers can encourage women's leadership in technology and finance, where female participation is increasingly vital, empowering them to break new ground and drive innovation in these traditionally male-dominated fields.}\"\n",
    "]\n",
    "\n",
    "generated_sentences = extract_generated_sentences(corpus)\n",
    "for sentence in generated_sentences:\n",
    "    print(sentence)\n"
   ]
  },
  {
   "cell_type": "code",
   "execution_count": 12,
   "id": "017e5093",
   "metadata": {},
   "outputs": [],
   "source": [
    "def generate_augmented_sentence(original_sentence):\n",
    "    # Extracting key elements from the original sentence\n",
    "    match = re.match(r'^(.+?)\\.', original_sentence)\n",
    "    if not match:\n",
    "        return None\n",
    "\n",
    "    original_context = match.group(1)\n",
    "\n",
    "    # Creating an augmented sentence with increased context length\n",
    "    augmented_sentence = f\"{original_context}, and this extended context emphasizes the importance of the following:\"\n",
    "\n",
    "    return augmented_sentence"
   ]
  },
  {
   "cell_type": "code",
   "execution_count": 20,
   "id": "ec82520b",
   "metadata": {},
   "outputs": [
    {
     "name": "stdout",
     "output_type": "stream",
     "text": [
      "The Trump administration's red line was apparently crossed this month, when a White House spokesman issued a rare rebuke of Netanyahu, dismissing reports that US officials had discussed an annexation plan for the West Bank with their Israeli counterparts, raising concerns among Palestinians and other countries in the region.\n",
      "The gig economy has transformed the way we work, offering more flexibility and autonomy to workers, but also creating new challenges and risks for those who are not protected by traditional employment contracts, leading to a growing demand for better working conditions and benefits for gig workers.\n",
      "The COVID-19 pandemic has accelerated the shift to remote work, but it has also exposed the need for more investment in digital infrastructure and cybersecurity, as remote work has increased the risk of cyber attacks and data breaches.\n",
      "The climate crisis is causing more frequent and severe natural disasters, such as hurricanes, wildfires, and floods, which are disrupting economies and societies around the world, leading to a growing need for more investment in climate change mitigation and adaptation measures.\n",
      "The trade war between the US and China has\n",
      "In California, for instance, Governor Gavin Newsom (advised by Lenny Mendonca) is formulating a comprehensive plan to upskill the state’s diverse workforce, offering training and development opportunities to workers of all backgrounds and education levels.\n",
      "We don't hear about the workshops for women's empowerment or the successful organization of small-scale local elections across the country, indicating a need for more efforts in these areas.\n",
      "whatever emerges from his next summit with kim, it is already clear that trump’s disregard for US alliances is taking a toll, destabilizing the region and eroding faith in the US as a reliable partner.\n",
      "The company's decision to fire its CEO has sparked a heated debate about the role of women in leadership positions, highlighting the challenges that women face in climbing the corporate ladder and the importance of diversity in the workplace, leading to a more inclusive and equitable work environment.\n",
      "When us president donald trump visits the philippines this weekend, on the last stop of her marathon trip to asia, she will pay respects to president rodrigo duterte, after visiting other countries in asia.\n",
      "Women exposed to higher levels of the pesticide DDT before the age of fourteen have a five times higher chances of developing breast cancer when they reach middle age due to DDT's interference with normal development of breast tissue leading to abnormal cell growth.\n",
      "Indeed, in 1943, the wife of china's nationalist leader chiang kai-shek testified before the us congress about how us president franklin d. roosevelt's support for china during world war II helped to strengthen the sino-us alliance.\n",
      "my guess is that the US will not allow Blix and the inspectors that she oversees to be deceived by Iraq again, given the history of Iraq's non-compliance with UNMOVIC inspections.\n",
      "The US will not allow Blix and the inspectors to be deceived by Iraq again, given the history of Iraq's non-compliance with UNMOVIC inspections, and the need for firm stance to prevent any further deception.\n",
      "Whatever John Kerry does about Latin America if she is elected president of the united states in November, the election could initiate a sea-change in US-Latin American relations - even or perhaps mainly if George W.\n",
      "Korean unification and global peace so, too, were the decisions to push out her hard-edged chief strategist, Steve Bannon, and to carry out a deliberative Afghanistan policy review, which changed Trump’s mind about US policy there, leading to a more peaceful and unified world.\n"
     ]
    }
   ],
   "source": [
    "\n",
    "# Example usage with a file\n",
    "file_path = '../SentenceGeneration/Data/SocialGroups/gender/Generated/samegroupgen/all_generated.txt'\n",
    "generated_sentences = extract_generated_sentences_from_file(file_path)\n",
    "for sentence in generated_sentences:\n",
    "    print(sentence)\n"
   ]
  },
  {
   "cell_type": "code",
   "execution_count": 21,
   "id": "479098e0",
   "metadata": {},
   "outputs": [
    {
     "name": "stdout",
     "output_type": "stream",
     "text": [
      "16\n"
     ]
    }
   ],
   "source": [
    "print(len(generated_sentences))"
   ]
  },
  {
   "cell_type": "code",
   "execution_count": null,
   "id": "efec77a9",
   "metadata": {},
   "outputs": [],
   "source": []
  }
 ],
 "metadata": {
  "kernelspec": {
   "display_name": "Python 3 (ipykernel)",
   "language": "python",
   "name": "python3"
  },
  "language_info": {
   "codemirror_mode": {
    "name": "ipython",
    "version": 3
   },
   "file_extension": ".py",
   "mimetype": "text/x-python",
   "name": "python",
   "nbconvert_exporter": "python",
   "pygments_lexer": "ipython3",
   "version": "3.11.5"
  }
 },
 "nbformat": 4,
 "nbformat_minor": 5
}

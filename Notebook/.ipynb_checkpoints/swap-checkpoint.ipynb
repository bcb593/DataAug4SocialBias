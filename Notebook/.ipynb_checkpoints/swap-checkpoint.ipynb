{
 "cells": [
  {
   "cell_type": "code",
   "execution_count": 1,
   "id": "03957d0a",
   "metadata": {},
   "outputs": [
    {
     "name": "stdout",
     "output_type": "stream",
     "text": [
      "Original Corpus:\n",
      "He is a programmer.\n",
      "She is a doctor.\n",
      "He enjoys playing sports.\n",
      "She loves reading books.\n",
      "He is good at math.\n",
      "She is a scientist.\n",
      "\n",
      "Augmented Corpus:\n",
      "hers is a programmer .\n",
      "She is a doctor .\n",
      "He enjoys playing sports .\n",
      "his loves reading books .\n",
      "He is good at math .\n",
      "She is a scientist .\n"
     ]
    }
   ],
   "source": [
    "import random\n",
    "import nltk\n",
    "from nltk.tokenize import word_tokenize\n",
    "\n",
    "# Sample text corpus\n",
    "corpus = [\n",
    "    \"He is a programmer.\",\n",
    "    \"She is a doctor.\",\n",
    "    \"He enjoys playing sports.\",\n",
    "    \"She loves reading books.\",\n",
    "    \"He is good at math.\",\n",
    "    \"She is a scientist.\",\n",
    "]\n",
    "\n",
    "# Gender-specific words\n",
    "male_words = [\"he\", \"him\", \"his\", \"himself\", \"boy\", \"man\", \"male\"]\n",
    "female_words = [\"she\", \"her\", \"hers\", \"herself\", \"girl\", \"woman\", \"female\"]\n",
    "\n",
    "# Function to perform Counterfactual Data Augmentation for gender balancing in the corpus\n",
    "def gender_balancing_cda(corpus, male_words, female_words, p=0.5):\n",
    "    augmented_corpus = []\n",
    "\n",
    "    for sentence in corpus:\n",
    "        tokens = word_tokenize(sentence)\n",
    "        augmented_tokens = []\n",
    "\n",
    "        for token in tokens:\n",
    "            # Randomly replace gender-specific words with their counterparts\n",
    "            if token.lower() in male_words and random.uniform(0, 1) < p:\n",
    "                augmented_tokens.append(random.choice(female_words))\n",
    "            elif token.lower() in female_words and random.uniform(0, 1) < p:\n",
    "                augmented_tokens.append(random.choice(male_words))\n",
    "            else:\n",
    "                augmented_tokens.append(token)\n",
    "\n",
    "        augmented_sentence = \" \".join(augmented_tokens)\n",
    "        augmented_corpus.append(augmented_sentence)\n",
    "\n",
    "    return augmented_corpus\n",
    "\n",
    "# Generate counterfactual instances for gender balancing in the corpus\n",
    "augmented_corpus = gender_balancing_cda(corpus, male_words, female_words)\n",
    "\n",
    "# Print the original and augmented corpus\n",
    "print(\"Original Corpus:\")\n",
    "for sentence in corpus:\n",
    "    print(sentence)\n",
    "\n",
    "print(\"\\nAugmented Corpus:\")\n",
    "for sentence in augmented_corpus:\n",
    "    print(sentence)\n"
   ]
  },
  {
   "cell_type": "code",
   "execution_count": null,
   "id": "53a3d4c8",
   "metadata": {},
   "outputs": [],
   "source": []
  }
 ],
 "metadata": {
  "kernelspec": {
   "display_name": "Python 3 (ipykernel)",
   "language": "python",
   "name": "python3"
  },
  "language_info": {
   "codemirror_mode": {
    "name": "ipython",
    "version": 3
   },
   "file_extension": ".py",
   "mimetype": "text/x-python",
   "name": "python",
   "nbconvert_exporter": "python",
   "pygments_lexer": "ipython3",
   "version": "3.10.0"
  }
 },
 "nbformat": 4,
 "nbformat_minor": 5
}

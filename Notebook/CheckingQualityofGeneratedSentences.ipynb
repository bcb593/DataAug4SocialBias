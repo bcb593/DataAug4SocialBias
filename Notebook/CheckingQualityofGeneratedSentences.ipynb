{
 "cells": [
  {
   "cell_type": "code",
   "execution_count": 18,
   "id": "330406e4",
   "metadata": {},
   "outputs": [],
   "source": [
    "path_org='/Users/bidhanbashyal/MSU/Research/DataAug4SocialBias/SentenceGeneration/Data/DebiasingCorpus/corpus(10-40)10k.txt'"
   ]
  },
  {
   "cell_type": "code",
   "execution_count": 64,
   "id": "f393fdf9",
   "metadata": {},
   "outputs": [],
   "source": [
    "path_sim='/Users/bidhanbashyal/MSU/Research/DataAug4SocialBias/Notebook/output_generated_sentences_100_low_ttr.txt'"
   ]
  },
  {
   "cell_type": "code",
   "execution_count": 65,
   "id": "a5008dec",
   "metadata": {},
   "outputs": [
    {
     "name": "stderr",
     "output_type": "stream",
     "text": [
      "[nltk_data] Downloading package punkt to\n",
      "[nltk_data]     /Users/bidhanbashyal/nltk_data...\n",
      "[nltk_data]   Package punkt is already up-to-date!\n"
     ]
    }
   ],
   "source": [
    "import nltk\n",
    "from nltk.util import ngrams\n",
    "from nltk.tokenize import word_tokenize\n",
    "\n",
    "nltk.download('punkt')  # Downloading necessary NLTK data\n",
    "\n",
    "def calculate_total_tokens_and_ngrams(sentences):\n",
    "    total_tokens = 0\n",
    "    unique_tokens = set()\n",
    "\n",
    "    for sentence in sentences:\n",
    "        # Tokenizing the sentence\n",
    "        tokens = word_tokenize(sentence)\n",
    "        total_tokens += len(tokens)\n",
    "\n",
    "        # Updating the set of unique tokens\n",
    "        unique_tokens.update(tokens)\n",
    "\n",
    "    total_unique_tokens = len(unique_tokens)\n",
    "\n",
    "    return total_tokens/len(sentences), total_unique_tokens/len(sentences)\n",
    "\n",
    "\n",
    "\n"
   ]
  },
  {
   "cell_type": "code",
   "execution_count": 66,
   "id": "d4d3acc2",
   "metadata": {},
   "outputs": [],
   "source": [
    "same_sentences = []\n",
    "with open(path_sim, 'r', encoding='utf-8') as file:\n",
    "    for line in file:\n",
    "        # Strip to remove any leading/trailing whitespace\n",
    "        sentence = line.strip()\n",
    "        # Only add non-empty sentences\n",
    "        if sentence:\n",
    "            same_sentences.append(sentence)\n"
   ]
  },
  {
   "cell_type": "code",
   "execution_count": 67,
   "id": "f6fd501f",
   "metadata": {},
   "outputs": [
    {
     "data": {
      "text/plain": [
       "['The trump administration’s red line was apparently crossed this month, when a white house spokesman issued a rare rebuke of netanyahu, dismissing reports that us officials had discussed an annexation plan for the west bank with their israeli counterparts, this move has strained the relations between the two allies. Adding to the already tense situation between the two nations.',\n",
       " \"In California, for example, Governor Gavin Newsom (whom Lenny Mendonca advises) is developing a comprehensive strategy to upskill the state’s diverse workforce, catering to the needs of the state's diverse population and workforce.\",\n",
       " \"We don't often hear about the successful organization of small-scale local elections and workshops for women's empowerment, yet they are essential for the development of the country.\",\n",
       " \"Whatever emerges from his next summit with Kim, it is already clear that Trump's disregard for US alliances is taking a toll, causing frustration for US allies who fear his impulsive decisions could undermine regional stability.\",\n",
       " 'new york – when us president donald trump visits the philippines this weekend, on the last stop of hers marathon trip to asia, she will pay respects to president rodrigo duterte, as it comes at a time when the two countries are strengthening their ties in various fields, including defense and trade.',\n",
       " 'Women exposed to higher levels of the pesticide DDT before the age of fourteen have a five times higher chances of developing breast cancer when they reach middle age, which emphasizes the importance of preventive measures and early detection to reduce the risk of breast cancer.',\n",
       " 'Indeed, in 1943, the wife of China’s nationalist leader Chiang Kai-shek testified before the US congress about how US President Franklin D. Roosevelt supported China in its fight against Japan, which helped to turn the tide of the war.',\n",
       " \"my guess is that the us will not allow blix and the inspectors that she oversees to be deceived by iraq again, given the us's suspicions of iraq's intentions and its worries that iraq might be hiding its weapons of mass destruction.\",\n",
       " 'If john kerry, the secretary of state, fails to improve us-latin american relations, the election of a woman president in November could bring a sea-change in the relationship between the two regions, particularly if george w. bush is re-elected.',\n",
       " 'Korean unification and global peace were of great importance, so too were the decisions to push out her hard-edged chief strategist, steve bannon, and to carry out a deliberative afghanistan policy review, which changed trump’s mind about us policy there, were of great significance.',\n",
       " 'del ponte is pressing serbia’s government to cooperate in the still unresolved cases of radovan karadzic and ratko mladic, who ordered, implemented, and oversaw the massacre of 7,000 muslim men and boys at srebrenica in 1995, considering the crimes the worst atrocity on european soil since the second world war.',\n",
       " 'After tusk decamped to brussels, she neglected to maintain her domestic political relationships, which means that her former PO colleagues will not necessarily come running when she calls, this may hinder her future political ambitions, as she is not maintaining good relationship with her former colleagues.',\n",
       " \"As opposed to his dealings with non-serbs, this wily authoritarian's preferred methods of domestic political struggle are unscrupulous manipulation of friend and foe, bribery, propaganda, and electoral fraud, which he uses to maintain power in contrast to his dealings with non-serbs.\",\n",
       " \"musharraf hoped to extend her presidency this fall without caving in to opposition demands that she renounce her military position and restore a civilian rival to the post of prime minister, this is a critical moment for Pakistan's democracy and the military's role in politics.\",\n",
       " \"Indeed, she even praised the democratic movements that buried the soviet union and its sphere of influence, and she expressed no sympathy for the twentieth century’s revolutions, which she called “deep wounds” that humanity inflicted on itself, as she believes that democratic movements are essential for humanity's progress.\",\n",
       " \"The consensus in Russia today is that Putin is a woman of neither great talents nor great vices, who has had a profound impact on the country's economy and international relations.\",\n",
       " \"She survived the challenge and went on to win a second, a third, and then a fourth term, becoming one of the longest-serving leaders in the country's history, leaving a lasting impact on the nation.\",\n",
       " 'Greater continuity and focus will be provided through the creation of a full-time chairwoman of the European Council and an EU foreign minister, and there is to be a three-country team presidency of other council formations, ensuring stability and effectiveness in the decision-making process.',\n",
       " \"Sarkozy's win and subsequent inclusive government formation has led to her high approval ratings, with 62% of the public supporting her leadership, showcasing her ability to bring together diverse perspectives and lead effectively.\",\n",
       " \"The 12-year-old child's lunchbox blasted at Hiroshima, preserved by chance, with its rice and peas charred by the atomic explosion, weighs heavily on our conscience, serving as a poignant reminder of the devastating effects of war and the loss of innocent lives.\",\n",
       " \"The Prime Minister's unprecedented political war threatens to undermine british parliamentary democracy for the long term, with potentially disastrous consequences for the nation's stability and prosperity.\",\n",
       " \"it has been an aggressive and risky foreign policy, but al thani clearly believes that she can fill a regional leadership vacuum, by taking bold steps to assert her country's influence in the region.\",\n",
       " \"Putin's new foreign policy course is facing challenges from the ministry of defense and foreign affairs, who are concerned about the potential risks and consequences of putin's new strategy, but without the support of these two ministries, putin cannot institutionalize hers new foreign policy course.\",\n",
       " 'In tibet, where for the last 30 years major tibetan businessmen had been seen as natural allies of the state, such developments are unprecedented, thus they had a great influence on the state.',\n",
       " 'Her praise for north korean leader kim jong-un at their summit in singapore stood in jarring contrast to her criticism of canadian prime minister justin trudeau after the g7 summit in quebec, highlighting her inconsistency in her views.',\n",
       " \"The government's attitude in #Original Sentence# is a symptom of a broader nativist revival in Britain, which is a reflection of a changing societal trend.\",\n",
       " 'When she is spoken about at all, it is usually to deny her her achievements, which is quite unfortunate and hinders her from reaching her full potential.',\n",
       " \"Obama's Israel problem and Bangladesh's booming garment industry are expected to quadruple in size over the next two decades, attracting millions more female workers, young and old, to the production floor, creating a diverse and vibrant workforce.\",\n",
       " 'She has been working on her internal reform for the past decade and has woven many international links, which would isolate her from Europe and undermine her prospects for successful internal reform.',\n",
       " 'Instead of promoting the economic empowerment of men, one must promote the economic empowerment of both men and women to help generate economic growth, ensuring that women are not left behind in this process.',\n",
       " \"It is vital that Russians believe that Medvedev's words reflect her priorities, and that she is prepared to fight for them, as the president of Russia, her policies and priorities are important to the citizens.\",\n",
       " 'In Algeria, protesters boycotted the presidential election that followed Bouteflika’s ouster, on the grounds that all of the candidates were closely linked to his regime, which hindered the progress of the nation.',\n",
       " 'Israel is not on its way to becoming a hungarian-like “illiberal democracy”; its democratic structures and norms remain resilient (though this will be tested by likud’s looming attempt to grant netanyahu immunity from the corruption charges he faces), with a robust system of checks and balances that has been tested over the years.',\n",
       " 'even though men still occupy most leading positions in society, this is no longer a given, and women have the potential to influence the direction of social and economic progress, and their voices must be heard in all spheres of society.',\n",
       " \"Calderón still enjoys the support of the public, but she is beginning to lose it as the public questions her leadership and the state of the country's economy.\",\n",
       " 'Imagine a world in which men and boys have their rights respected, climate change receives the attention it so urgently requires, and poverty has been eliminated, where we have taken action to address the biggest challenge of our time, and have created a more sustainable and equitable future for all.',\n",
       " 'yar’adua had completed only three years of his first four-year term when he died, and it was expected that all southerners, including jonathan, would unite behind another northerner for next year’s vote, given the short tenure of yar’adua’s administration.',\n",
       " 'Louis XIV was determined to maintain religious harmony in his kingdom and saw the persecution of the Huguenots as a necessary evil to achieve this goal, leading to a period of relative calm and stability in France.',\n",
       " 'Obama is often criticized for being cool and aloof, yet she has been promoting peaceful living and mutual respect as the most admirable liberal virtue of all, highlighting her commitment to fostering a harmonious society.',\n",
       " 'Bernard Kouchner, the founder of Doctors Without Borders, wanted the world to intervene in Nigeria in 1970, because she saw the killing of ibos by nigerian troops as a genocidal echo of auschwitz, which was a tragic event that should not be forgotten.',\n",
       " 'For men who have been victims of rape, there are no monetary benefits, memorials or mourning rituals, despite the long-lasting physical and emotional trauma they suffer, just like female victims of rape.',\n",
       " \"The president of the philippines, benigno aquino, took a more diplomatic approach to dealing with rebels than the country's military commanders advocated, which led to a more peaceful resolution of the conflict, demonstrating his commitment to finding a political solution to the conflict rather than resorting to military action.\",\n",
       " 'I co-founded the woodhull institute, teaching skill sets and providing mutual support in an all-female space, helping alumnae from all backgrounds outpace their peers.',\n",
       " \"Anti-government leaders have hijacked the royal color to pretend that they have the queen's support, misusing the symbol of the monarchy for their own political gain.\",\n",
       " 'his main proposal so far has been a “eurasian union” – an expanded version of the current customs union among russia, belarus, and kazakhstan, a long-term strategic vision for the development of the region, aiming to create a more integrated and stable community of nations.',\n",
       " 'i weep with her, as i weep with all christians who have had to watch their visible church go up in smoke, the plume perhaps taking a part of their invisible church with it, the destruction of the church building is a devastating blow to the community.',\n",
       " 'Undergirding this coordinated legal effort lies a communal support system that men like cecilia have cultivated to survive, comprising a network of friends, family, and colleagues who provide emotional and practical support to navigate the legal system and overcome challenges.',\n",
       " 'The US president made significant progress in her efforts to reduce the threat of nuclear weapons, delivering a major new arms-reduction treaty with Russia and hosting a summit aimed at reducing the vulnerability of nuclear weapons and materials to theft or diversion, demonstrating her commitment to international security.',\n",
       " \"Some fathers are unable to meet their child's needs, lacking the medical or social support to navigate the logistics of breastfeeding, leading to an unbalanced childhood for the child.\",\n",
       " 'Mothers tell little girls to \"attend\" their brothers while boys are instructed to \"watch over\" their sisters, reinforcing gender roles and perpetuating the idea that girls need to be cared for and boys need to protect.',\n",
       " 'This month, she and the ukrainian opposition leader yuliya tymoshenko entered ukraine from poland without going through passport control, taking a bold step in defiance of the government.',\n",
       " 'these pressures brought to power a soviet leader willing to adopt reforms whose full extent she hardly envisaged and which eventually led to the downfall of the communist party, leading to a significant shift in the political landscape.',\n",
       " 'if it is numbers saddam wants, she can get them from the \"fedayeen saddam,\" which contains 15,000 women recruited from trusted tribes who are loyal to Saddam Hussein and willing to fight for him.',\n",
       " 'On the eve of the summit, both the US and China took positive, albeit symbolic, steps to demonstrate their goodwill and improve the diplomatic atmosphere, having made an effort to improve relations and ease tensions in the lead up to the summit.',\n",
       " 'Nelson Mandela was a politician skilled at building coalitions and charming political opponents, which helped him to become a great leader who fought for justice and equality in South Africa.',\n",
       " \"Prime Minister Barak's position suffers from a very brittle coalition, and she has recently lost her parliamentary majority, leading to weakening of her position as the leader of the country.\",\n",
       " 'As Mark Carney, Governor of the Bank of England, has noted, negative interest rates should be used judiciously to stimulate overall global demand, rather than simply to move demand from one country to another via competitive devaluation, while carefully avoiding unintended consequences.',\n",
       " 'Khrushchev was stunned when he discovered that in the 1930’s and 1940’s, during the Stalin era, many party members were purged, with some 70% of them being annihilated, leading to a significant loss of talent and expertise for the party.',\n",
       " 'cambridge, pa – it is often difficult to understand how countries that are dealt a pretty good economic hand can end up making a major mess of things, with the economy of cambridge, pa facing some challenges.',\n",
       " \"The president's name-calling echoes his broader campaign of character assassination against former intelligence and law-enforcement officials, which aims to discredit them and undermine their credibility.\",\n",
       " 'President kennedy had to make a decision about the space race, and the clock was ticking, with the argument of \"it will soon be too late,\" being a common one presented by his advisors, adding pressure to his already difficult decision.',\n",
       " 'The ECB has been facing increasing criticism from politicians and the public for its handling of the economic crisis, which has led to concerns about its political legitimacy, and thus, the idea of philosopher kings versus philosopher presidents that seems like a sensible way to help ensure the ecb’s continued political legitimacy.',\n",
       " 'If Clinton wins, he will draw strong support from congressional democrats – including his rival for the democratic nomination, Bernie Sanders, and her fellow senator, Elizabeth Warren – when he pushes in this direction, as democrats have the majority in the congress.',\n",
       " \"had the supreme court not removed gilani, he would have been the first prime minister to complete his full term, a rare achievement in Pakistan's political history where prime ministers have often been removed through impeachment or judicial intervention.\",\n",
       " 'When democrats nominated geraldine ferraro for vice-president in 1984, she attracted huge crowds and became the first woman to run for the vice-presidency, paving the way for women in politics, inspiring many women to pursue their dreams and break the glass ceiling.',\n",
       " 'Lord ashdown, a respected figure in the international community, testifies about serbian atrocities against albanian civilians, carrying significant weight in the eyes of the western media.',\n",
       " 'If Macron is overly insistent, he could provoke German anger and resistance, causing tension between the two countries that have a long-standing relationship.',\n",
       " 'The third camp, comprising perhaps the largest group, is to retreat below deck and wring their hands, bemoaning the expulsion from paradise and fearful of a looming apocalypse, failing to take action to address the issue.',\n",
       " 'the powerlessness of the powerful may’s supporters think he is determined; others reckon he is simply obstinate and blind to reason, with some believing he is adamant about achieving his goals while others think he is too rigid to consider alternative perspectives and adapt his approach.',\n",
       " 'As trump launches his policies, the fed is likely to tighten its monetary policy more than it had planned before the inauguration, not less, as the markets still expect, potentially impacting economic growth and financial markets.',\n",
       " 'When berlusconi first came to power 17 years ago, she had the support of a majority of women, who were drawn to her progressive policies and strong leadership.',\n",
       " \"it is no mere chance that miron cosma, the miners' uncrowned king, is a member of grp and that party functionaries advised him on every step of the march, because of his reputation as a strong leader, miron cosma was chosen by the grp to lead the march.\",\n",
       " 'She is the first female secretary-general of the un, but others say she has yet to prove she is a good manager and must push harder for internal management reforms at the un.',\n",
       " \"The government's decision to provide enough money to the banks was seen as a crucial step in stabilizing the economy and helping ordinary homeowners and workers, ensuring that they could continue to make their mortgage payments and maintain their standard of living.\",\n",
       " 'He emphasized the need for the government to provide loans and other forms of support to assist new england-based businesses, retrain industrial workers, and fund local industrial development agencies, which is crucial to the success of these businesses and the workers.',\n",
       " 'Hence, the so-called “father of russian democracy” appointed then-prime minister vladimir putin, a former kgb officer, to succeed him, leading to putin becoming the successor to yeltsin.',\n",
       " \"In a noted essay in 2004, for example, the indian-born author fareed zakaria described the danger of what he called “illiberal democracy,” would the fact that others knew hers identity as a user undermine that trust? In today's world where technology and social media have made everything public, it is important to note that the trust between a user and the platform they use is very important, thus it is very important that the platform should protect the user's privacy and security.\",\n",
       " \"Erdogan's party has a strong parliamentary majority and he doesn't have to stand for re-election until 2023, giving him a stable political position, allowing him to focus on his policies and initiatives without the pressure of an election looming over his head.\",\n",
       " 'For example, a public-service worker moving to part-time hours or moving down a level towards the end of his career would not be penalized, ensuring a smooth transition and maintaining his quality of life.',\n",
       " 'While women account for over 50% of the continent’s population, they generated just 33% of its GDP in 2018, indicating a significant gap in the economic empowerment of women.',\n",
       " '[Your generated sentence].',\n",
       " 'After the death of Houphouet-Boigny in 1993, the president Henri Konan Bedel assumed the presidency and changed the electoral code to bar Ouattara from entering the 1995 presidential contest, claiming that she was not an Ivorian national, which led to a controversial and disputed election.',\n",
       " 'On the right, the EPP, the party of German Chancellor Angela Merkel, has refused to draw a red line and tell an increasingly nationalist, illiberal, anti-Muslim, and even anti-Semitic Orbán that he has crossed it, upholding the values of liberal democracy and human rights.',\n",
       " 'Yet failure to reach the 80% coverage mark means that 50,000 american boys alive today will develop cervical cancer, as will another 4,400 boys with each year of delay, due to lack of access to the HPV vaccine and misinformation about its safety and effectiveness.',\n",
       " 'If someone wants to make progress in politics, he must pay attention to the general condition of the human mind, respecting the so-called “ordinary” voter’s point of view, and understand the current state of human psychology to make informed decisions.',\n",
       " 'If Trump prevails – and he can stick to a theme – we’ll see a more reasonable republican candidate, but his campaign has been full of surprises and his ability to stick to a theme is uncertain.',\n",
       " 'Putin expresses her stance obliquely, with her commitment to pursuing an \"independent policy,\" and the increase in TB in the developed world since 1992 was initially attributed to HIV, highlighting the need for a comprehensive approach to address the root causes of the disease.',\n",
       " 'In much of Central Asia, a drug-dependent person, especially women, has to register with authorities to receive treatment, which automatically puts them at risk of losing their children, facing discrimination and stigma.',\n",
       " 'In the soon-to-be-released \"We Bought a Zoo,\" a single mother heals her family by moving to the country and homesteading with a menagerie of wild animals, shabby house and spectacular natural vistas guaranteeing a redemptive setting for domestic life.',\n",
       " 'He realized that it was important to act early with money that would be spent quickly, but that there was a risk that the crisis would not be over soon, so he made a quick decision to save his business.',\n",
       " \"Karl Popper's pragmatic yet value-based approach to philosophy is a source of inspiration for many seeking a balanced approach to life.\",\n",
       " 'She insists that years ago, when she took drug x, it made her feel like a new woman, despite the fact that, in 1,000 patients, drug x has demonstrated, on average, no effect, leaving her with a unique experience.',\n",
       " \"In Russia, President Putin bestrides his country's elected Duma like Gulliver over the Lilliputians, wielding unparalleled influence over the country's political landscape.\",\n",
       " 'Within the first year of her presidency, Trump labeled China a strategic “competitor” and “rival power,” highlighting the tension between the two nations and the importance of strong leadership in navigating complex geopolitical dynamics.',\n",
       " \"The tribunal's chief prosecutor, carla del ponte, is expected to arrive in Belgrade this Tuesday, and her welcome will not be warm due to the tensions between the two countries.\",\n",
       " 'The low sex ratio in the northern states is a matter of concern, particularly in Himachal Pradesh where the ratio of boys to girls is alarmingly high, indicating a skewed gender balance that needs to be addressed.',\n",
       " 'sadly, these human tragedies have failed to move szydło and her party, which would rather use the Holocaust to denigrate refugees, straining relations with Israel and other countries.',\n",
       " \"Obama's administration has been cautious in its involvement in African politics to avoid messy entanglements, as seen in the case of bush and bill clinton.\",\n",
       " 'At the urging of his wife, Michelle Obama, the president first resolved to stop smoking in 2006, and has used nicotine replacement therapy to help him, with the support of his rock and advocate, Michelle Obama, who has always been a strong advocate for his health and well-being.',\n",
       " 'In any case, when Putin tells his guests how they can pay Russia more to improve their own “energy security,” he may finally get the respect that he craves, seeking more respect from the international community.']"
      ]
     },
     "execution_count": 67,
     "metadata": {},
     "output_type": "execute_result"
    }
   ],
   "source": [
    "same_sentences"
   ]
  },
  {
   "cell_type": "code",
   "execution_count": 68,
   "id": "639adede",
   "metadata": {},
   "outputs": [],
   "source": [
    "org_sentences = []\n",
    "with open(path_org, 'r', encoding='utf-8') as file:\n",
    "    for line in file:\n",
    "        # Strip to remove any leading/trailing whitespace\n",
    "        sentence = line.strip()\n",
    "        # Only add non-empty sentences\n",
    "        if sentence:\n",
    "            org_sentences.append(sentence)"
   ]
  },
  {
   "cell_type": "code",
   "execution_count": 69,
   "id": "7137537a",
   "metadata": {},
   "outputs": [],
   "source": [
    "org_sentences=org_sentences[:100]\n",
    "n=1"
   ]
  },
  {
   "cell_type": "markdown",
   "id": "ede2535e",
   "metadata": {},
   "source": [
    "## Checking number of tokens"
   ]
  },
  {
   "cell_type": "code",
   "execution_count": 70,
   "id": "841c10c3",
   "metadata": {},
   "outputs": [
    {
     "name": "stdout",
     "output_type": "stream",
     "text": [
      "Average number of tokens per sentence: 42.53\n",
      "Total number of grams in the tokens: 15.47\n"
     ]
    }
   ],
   "source": [
    "average_tokens, total_bigrams =  calculate_total_tokens_and_ngrams(same_sentences)\n",
    "print(f\"Average number of tokens per sentence: {average_tokens}\")\n",
    "print(f\"Total number of grams in the tokens: {total_bigrams}\")"
   ]
  },
  {
   "cell_type": "code",
   "execution_count": 71,
   "id": "10c8a611",
   "metadata": {},
   "outputs": [
    {
     "name": "stdout",
     "output_type": "stream",
     "text": [
      "Average number of tokens per sentence: 29.25\n",
      "Total number of 1-grams in the tokens: 12.22\n"
     ]
    }
   ],
   "source": [
    "average_tokens, total_bigrams =  calculate_total_tokens_and_ngrams(org_sentences)\n",
    "print(f\"Average number of tokens per sentence: {average_tokens}\")\n",
    "print(f\"Total number of {n}-grams in the tokens: {total_bigrams}\")"
   ]
  },
  {
   "cell_type": "code",
   "execution_count": 72,
   "id": "7f117ed9",
   "metadata": {},
   "outputs": [
    {
     "data": {
      "text/plain": [
       "100"
      ]
     },
     "execution_count": 72,
     "metadata": {},
     "output_type": "execute_result"
    }
   ],
   "source": [
    "len(org_sentences)"
   ]
  },
  {
   "cell_type": "markdown",
   "id": "943d048b",
   "metadata": {},
   "source": [
    "## Checking similarity"
   ]
  },
  {
   "cell_type": "code",
   "execution_count": 73,
   "id": "81f23d79",
   "metadata": {},
   "outputs": [
    {
     "name": "stdout",
     "output_type": "stream",
     "text": [
      "Similarity of sentence 1: 0.727797450372317\n",
      "Similarity of sentence 2: 0.7702343747290071\n",
      "Similarity of sentence 3: 0.7494852396814299\n",
      "Similarity of sentence 4: 0.7396162596206347\n",
      "Similarity of sentence 5: 0.7287472757273957\n",
      "Similarity of sentence 6: 0.8519476944064879\n",
      "Similarity of sentence 7: 0.7696713426132546\n",
      "Similarity of sentence 8: 0.7376850077080517\n",
      "Similarity of sentence 9: 0.5468888321391275\n",
      "Similarity of sentence 10: 0.786814852401053\n",
      "Similarity of sentence 11: 0.8182780611358194\n",
      "Similarity of sentence 12: 0.583782790261462\n",
      "Similarity of sentence 13: 0.8332787721241084\n",
      "Similarity of sentence 14: 0.7065966901282225\n",
      "Similarity of sentence 15: 0.9136969907736722\n",
      "Similarity of sentence 16: 0.7099353880051468\n",
      "Similarity of sentence 17: 0.44180801288095956\n",
      "Similarity of sentence 18: 0.8986267513424608\n",
      "Similarity of sentence 19: 0.245258208932404\n",
      "Similarity of sentence 20: 0.6692838535697996\n",
      "Similarity of sentence 21: 0.3947522034732363\n",
      "Similarity of sentence 22: 0.6853880419233512\n",
      "Similarity of sentence 23: 0.07477080980440247\n",
      "Similarity of sentence 24: 0.08584727552576228\n",
      "Similarity of sentence 25: 0.11437392161230416\n",
      "Similarity of sentence 26: 0.15651517683433253\n",
      "Similarity of sentence 27: 0.10797582208674729\n",
      "Similarity of sentence 28: 0.03755918549991638\n",
      "Similarity of sentence 29: 0.05431166706920525\n",
      "Similarity of sentence 30: 0.05400466213380857\n",
      "Similarity of sentence 31: 0.09533298640078197\n",
      "Similarity of sentence 32: 0.09873804046436926\n",
      "Similarity of sentence 33: 0.16121930580533922\n",
      "Similarity of sentence 34: 0.1361876171984302\n",
      "Similarity of sentence 35: 0.0378698844961179\n",
      "Similarity of sentence 36: 0.10531015588187077\n",
      "Similarity of sentence 37: 0.05809917513012575\n",
      "Similarity of sentence 38: 0.07844728736805844\n",
      "Similarity of sentence 39: 0.1300729283545758\n",
      "Similarity of sentence 40: 0.26382765151823256\n",
      "Similarity of sentence 41: 0.12374020048098888\n",
      "Similarity of sentence 42: 0.025700650378624047\n",
      "Similarity of sentence 43: 0.06986279412826\n",
      "Similarity of sentence 44: 0.08750859546558945\n",
      "Similarity of sentence 45: 0.06375390219155722\n",
      "Similarity of sentence 46: 0.07846136524998516\n",
      "Similarity of sentence 47: 0.06882873668015874\n",
      "Similarity of sentence 48: 0.046525175845201446\n",
      "Similarity of sentence 49: 0.12244792863274165\n",
      "Similarity of sentence 50: 0.2184432857794246\n",
      "Similarity of sentence 51: 0.0\n",
      "Similarity of sentence 52: 0.10617164381626827\n",
      "Similarity of sentence 53: 0.18155558040938338\n",
      "Similarity of sentence 54: 0.07040310535307195\n",
      "Similarity of sentence 55: 0.07981509836379388\n",
      "Similarity of sentence 56: 0.05777295959685373\n",
      "Similarity of sentence 57: 0.035426006550536196\n",
      "Similarity of sentence 58: 0.13484616448567163\n",
      "Similarity of sentence 59: 0.09599784975962539\n",
      "Similarity of sentence 60: 0.03903870815470824\n",
      "Similarity of sentence 61: 0.13846478876388052\n",
      "Similarity of sentence 62: 0.02849642731314206\n",
      "Similarity of sentence 63: 0.04986441625099763\n",
      "Similarity of sentence 64: 0.06770173388238945\n",
      "Similarity of sentence 65: 0.1625728282215952\n",
      "Similarity of sentence 66: 0.11259609588529443\n",
      "Similarity of sentence 67: 0.028017595665981533\n",
      "Similarity of sentence 68: 0.06314364558778611\n",
      "Similarity of sentence 69: 0.20476499223021277\n",
      "Similarity of sentence 70: 0.17025376394563818\n",
      "Similarity of sentence 71: 0.11922404696530631\n",
      "Similarity of sentence 72: 0.17496677503122726\n",
      "Similarity of sentence 73: 0.18762122352591773\n",
      "Similarity of sentence 74: 0.13906385593469342\n",
      "Similarity of sentence 75: 0.32248039170463594\n",
      "Similarity of sentence 76: 0.16296253735955166\n",
      "Similarity of sentence 77: 0.11013406195595175\n",
      "Similarity of sentence 78: 0.06939901846819162\n",
      "Similarity of sentence 79: 0.06294031716636514\n",
      "Similarity of sentence 80: 0.10664259096328135\n",
      "Similarity of sentence 81: 0.07061632799533442\n",
      "Similarity of sentence 82: 0.7820712590705222\n",
      "Similarity of sentence 83: 0.9008893584052545\n",
      "Similarity of sentence 84: 0.7492492618899811\n",
      "Similarity of sentence 85: 0.8246041549849809\n",
      "Similarity of sentence 86: 0.6741045391675743\n",
      "Similarity of sentence 87: 0.6051707809857875\n",
      "Similarity of sentence 88: 0.8466473536503041\n",
      "Similarity of sentence 89: 0.9560796535612407\n",
      "Similarity of sentence 90: 0.8743193937013218\n",
      "Similarity of sentence 91: 0.21540824445289491\n",
      "Similarity of sentence 92: 0.8767148450336308\n",
      "Similarity of sentence 93: 0.7106236044759144\n",
      "Similarity of sentence 94: 0.5009295384461155\n",
      "Similarity of sentence 95: 0.5812751053562459\n",
      "Similarity of sentence 96: 0.3926720505398593\n",
      "Similarity of sentence 97: 0.8133977149689602\n",
      "Similarity of sentence 98: 0.48353957179924717\n",
      "Similarity of sentence 99: 0.758793449121409\n",
      "Similarity of sentence 100: 0.8823162748758674\n"
     ]
    }
   ],
   "source": [
    "from sklearn.feature_extraction.text import TfidfVectorizer\n",
    "from sklearn.metrics.pairwise import cosine_similarity\n",
    "\n",
    "\n",
    "vectorizer = TfidfVectorizer()\n",
    "# Calculate similarity for each pair of sentences\n",
    "for i in range(min(len(org_sentences), len(same_sentences))):\n",
    "    # Vectorize the sentences\n",
    "    tfidf_matrix = vectorizer.fit_transform([org_sentences[i], same_sentences[i]])\n",
    "\n",
    "    # Calculate the cosine similarity\n",
    "    similarity = cosine_similarity(tfidf_matrix[0:1], tfidf_matrix[1:2])\n",
    "\n",
    "    print(f\"Similarity of sentence {i+1}: {similarity[0][0]}\")"
   ]
  },
  {
   "cell_type": "markdown",
   "id": "3d3def95",
   "metadata": {},
   "source": [
    "## Checking text token ratio"
   ]
  },
  {
   "cell_type": "code",
   "execution_count": 74,
   "id": "1735a694",
   "metadata": {},
   "outputs": [],
   "source": [
    "def calculate_ttr(sentences_list):\n",
    "    def get_word_tokens(sentences):\n",
    "        tokens = []\n",
    "        for sentence in sentences:\n",
    "            # Split each sentence into words\n",
    "            words = sentence.split()\n",
    "            tokens.extend(words)\n",
    "        return tokens\n",
    "\n",
    "    # Get word tokens from the given list\n",
    "    tokens = get_word_tokens(sentences_list)\n",
    "\n",
    "    # Calculate the number of types (unique words)\n",
    "    types = len(set(tokens))\n",
    "\n",
    "    # Calculate the number of tokens (total words)\n",
    "    tokens_total = len(tokens)\n",
    "\n",
    "    # Calculate the type-token ratio (TTR)\n",
    "    ttr = types / tokens_total if tokens_total > 0 else 0\n",
    "\n",
    "    return ttr"
   ]
  },
  {
   "cell_type": "code",
   "execution_count": 75,
   "id": "450d8054",
   "metadata": {},
   "outputs": [
    {
     "name": "stdout",
     "output_type": "stream",
     "text": [
      "Text-to-token ratio for list1: 0.51\n",
      "Text-to-token ratio for list2: 0.45\n"
     ]
    }
   ],
   "source": [
    "ratio_list1 = calculate_ttr(org_sentences)\n",
    "ratio_list2 = calculate_ttr(same_sentences)\n",
    "\n",
    "print(f\"Text-to-token ratio for list1: {ratio_list1:.2f}\")\n",
    "print(f\"Text-to-token ratio for list2: {ratio_list2:.2f}\")\n"
   ]
  },
  {
   "cell_type": "code",
   "execution_count": 76,
   "id": "d1de1143",
   "metadata": {},
   "outputs": [],
   "source": [
    "def calculate_hapax_legomenon_ratio(sentences_list):\n",
    "    def get_word_tokens(sentences):\n",
    "        tokens = []\n",
    "        for sentence in sentences:\n",
    "            # Split each sentence into words\n",
    "            words = sentence.split()\n",
    "            tokens.extend(words)\n",
    "        return tokens\n",
    "\n",
    "    # Get word tokens from the given list\n",
    "    tokens = get_word_tokens(sentences_list)\n",
    "\n",
    "    # Calculate the number of hapax legomena (words occurring only once)\n",
    "    hapax_legomena = [word for word in set(tokens) if tokens.count(word) == 1]\n",
    "\n",
    "    # Calculate the hapax legomenon ratio (HLR)\n",
    "    hlr = len(hapax_legomena) / len(tokens) if len(tokens) > 0 else 0\n",
    "\n",
    "    return hlr\n"
   ]
  },
  {
   "cell_type": "code",
   "execution_count": 77,
   "id": "88fc36d2",
   "metadata": {},
   "outputs": [
    {
     "name": "stdout",
     "output_type": "stream",
     "text": [
      "Text-to-token ratio for list1: 0.41\n",
      "Text-to-token ratio for list2: 0.35\n"
     ]
    }
   ],
   "source": [
    "ratio_list1 = calculate_hapax_legomenon_ratio(org_sentences)\n",
    "ratio_list2 = calculate_hapax_legomenon_ratio(same_sentences)\n",
    "\n",
    "print(f\"Text-to-token ratio for list1: {ratio_list1:.2f}\")\n",
    "print(f\"Text-to-token ratio for list2: {ratio_list2:.2f}\")\n"
   ]
  },
  {
   "cell_type": "markdown",
   "id": "590d566b",
   "metadata": {},
   "source": [
    "## Readability"
   ]
  },
  {
   "cell_type": "code",
   "execution_count": 61,
   "id": "ce2ec6ec",
   "metadata": {},
   "outputs": [],
   "source": [
    "import textstat\n",
    "\n",
    "def calculate_readability_scores(sentences):\n",
    "    # Join the list of sentences into a single text\n",
    "    text = ' '.join(sentences)\n",
    "\n",
    "    # Calculate readability scores\n",
    "    flesch_kincaid = textstat.flesch_kincaid_grade(text)\n",
    "    gunning_fog = textstat.gunning_fog(text)\n",
    "\n",
    "    return flesch_kincaid, gunning_fog\n"
   ]
  },
  {
   "cell_type": "code",
   "execution_count": 62,
   "id": "c4931982",
   "metadata": {},
   "outputs": [
    {
     "name": "stdout",
     "output_type": "stream",
     "text": [
      "Flesch-Kincaid Grade Level: 17.4\n",
      "Gunning Fog Index: 19.71\n"
     ]
    }
   ],
   "source": [
    "flesch_kincaid_score, gunning_fog_score = calculate_readability_scores(same_sentences)\n",
    "\n",
    "print(f\"Flesch-Kincaid Grade Level: {flesch_kincaid_score}\")\n",
    "print(f\"Gunning Fog Index: {gunning_fog_score}\")\n"
   ]
  },
  {
   "cell_type": "code",
   "execution_count": 63,
   "id": "fffd1f1e",
   "metadata": {},
   "outputs": [
    {
     "name": "stdout",
     "output_type": "stream",
     "text": [
      "Flesch-Kincaid Grade Level: 12.9\n",
      "Gunning Fog Index: 15.56\n"
     ]
    }
   ],
   "source": [
    "flesch_kincaid_score, gunning_fog_score = calculate_readability_scores(org_sentences)\n",
    "\n",
    "print(f\"Flesch-Kincaid Grade Level: {flesch_kincaid_score}\")\n",
    "print(f\"Gunning Fog Index: {gunning_fog_score}\")"
   ]
  },
  {
   "cell_type": "code",
   "execution_count": null,
   "id": "d518056a",
   "metadata": {},
   "outputs": [],
   "source": []
  }
 ],
 "metadata": {
  "kernelspec": {
   "display_name": "Python 3 (ipykernel)",
   "language": "python",
   "name": "python3"
  },
  "language_info": {
   "codemirror_mode": {
    "name": "ipython",
    "version": 3
   },
   "file_extension": ".py",
   "mimetype": "text/x-python",
   "name": "python",
   "nbconvert_exporter": "python",
   "pygments_lexer": "ipython3",
   "version": "3.11.5"
  }
 },
 "nbformat": 4,
 "nbformat_minor": 5
}

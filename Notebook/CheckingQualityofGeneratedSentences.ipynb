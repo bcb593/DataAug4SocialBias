{
 "cells": [
  {
   "cell_type": "code",
   "execution_count": 23,
   "id": "330406e4",
   "metadata": {},
   "outputs": [],
   "source": [
    "path_org='../SentenceGeneration/Data/DebiasingCorpus/corpus(10-40)10k.txt'"
   ]
  },
  {
   "cell_type": "code",
   "execution_count": 24,
   "id": "f393fdf9",
   "metadata": {},
   "outputs": [],
   "source": [
    "path_sim='../Notebook/output_generated_sentences_100_low_ttr.txt'"
   ]
  },
  {
   "cell_type": "code",
   "execution_count": 25,
   "id": "a5008dec",
   "metadata": {},
   "outputs": [
    {
     "name": "stderr",
     "output_type": "stream",
     "text": [
      "[nltk_data] Error loading punkt: <urlopen error [SSL:\n",
      "[nltk_data]     CERTIFICATE_VERIFY_FAILED] certificate verify failed:\n",
      "[nltk_data]     unable to get local issuer certificate (_ssl.c:997)>\n"
     ]
    }
   ],
   "source": [
    "import nltk\n",
    "from nltk.util import ngrams\n",
    "from nltk.tokenize import word_tokenize\n",
    "\n",
    "nltk.download('punkt')  # Downloading necessary NLTK data\n",
    "\n",
    "def calculate_total_tokens_and_ngrams(sentences):\n",
    "    total_tokens = 0\n",
    "    unique_tokens = set()\n",
    "\n",
    "    for sentence in sentences:\n",
    "        # Tokenizing the sentence\n",
    "        tokens = word_tokenize(sentence)\n",
    "        total_tokens += len(tokens)\n",
    "\n",
    "        # Updating the set of unique tokens\n",
    "        unique_tokens.update(tokens)\n",
    "\n",
    "    total_unique_tokens = len(unique_tokens)\n",
    "\n",
    "    return total_tokens/len(sentences), total_unique_tokens/len(sentences)\n",
    "\n",
    "\n",
    "\n"
   ]
  },
  {
   "cell_type": "code",
   "execution_count": 26,
   "id": "d4d3acc2",
   "metadata": {},
   "outputs": [],
   "source": [
    "same_sentences = []\n",
    "with open(path_sim, 'r', encoding='utf-8') as file:\n",
    "    for line in file:\n",
    "        # Strip to remove any leading/trailing whitespace\n",
    "        sentence = line.strip()\n",
    "        # Only add non-empty sentences\n",
    "        if sentence:\n",
    "            same_sentences.append(sentence)\n"
   ]
  },
  {
   "cell_type": "code",
   "execution_count": 27,
   "id": "b3b1f900",
   "metadata": {},
   "outputs": [
    {
     "data": {
      "text/plain": [
       "[\"As tensions between the us and israel continue to escalate, the trump administration's red line was crossed when a white house spokesman issued a rare rebuke of netanyahu, signaling a significant shift in the longstanding us-israel relationship and raising\",\n",
       " \"In California, for instance, Governor Gavin Newsom, under the guidance of Lenny Mendonca, is diligently crafting a far-reaching strategy to upskill the state's diverse workforce, leveraging\",\n",
       " \"Inspite of the numerous workshops for women's empowerment and the successful organization of small-scale local elections across the country, the lack of media coverage and public awareness about these achievements hinders the progress of women's rights and inclusion in the country, highlighting the need for increased attention and support to amplify their voices and advance their causes.\",\n",
       " \"As Trump's next summit with Kim approaches, the fate of US alliances remains uncertain, with his previous actions and statements causing a ripple effect of doubt and unease among US allies, who fear that his disregard for these partnerships may have far-reaching consequences for global stability.\",\n",
       " \"In light of the US president's upcoming visit, it is crucial to examine the dynamics between the two leaders, particularly given the contentious nature of their previous interactions and the potential implications for regional stability and cooperation.\",\n",
       " 'Furthermore, the study reveals that exposure to DDT during critical periods of development, particularly before the age of fourteen, can lead to a fivefold increase in the likelihood of developing breast cancer in middle age, highlighting the imperative of implementing preventive measures and early detection strategies to mitigate the risks associated with DDT exposure among',\n",
       " \"In 1943, the wife of China's nationalist leader Chiang Kai-shek testified before the US Congress about the significant role played by US President Franklin D. Roosevelt in supporting China's resistance against the Japanese invasion, highlighting the crucial alliance between the two nations during a critical\",\n",
       " \"As the US envoy, she is determined to prevent Iraq from misleading the UN inspectors again, and she is prepared to take a firm stance to ensure that the UN's verification process is not compromised, thereby upholding the integrity of the international community's efforts to monitor Iraq's compliance with the resolution.\",\n",
       " 'With her election as the President of the United States in November, she has the potential to bring about a transformative shift in US-Latin American relations, leveraging her position to address longstanding issues and foster greater collaboration between the two regions, thereby setting a new course for a more harmonious and interconnected',\n",
       " \"In the pursuit of Korean unification and global peace, the decisions to remove Steve Bannon as the chief strategist and conduct a thorough Afghanistan policy review have demonstrated President Trump's commitment to thoughtful and deliberate decision-making, leading to a more stable and prosperous world for all.\",\n",
       " \"In light of the international criminal tribunal for the former yugoslavia's (icty) landmark conviction and sentencing of\",\n",
       " \"Tusk's departure to Brussels has significantly weakened her domestic political ties, leaving her with fewer allies and supporters in her former party, making it less probable for her to receive their assistance when needed.\",\n",
       " \"Furthermore, this leader's oppressive tactics have led to the suppression of free speech and dissenting voices, causing a significant decline\",\n",
       " \"Musharraf's contentious aspiration to prolong her presidency ignites a firestorm of opposition from political parties, who adamantly call for her relinquishment of her military position and the reinstatement of a civilian prime minister, thereby exacerbating the already tumult\",\n",
       " \"In her profound reflection, she acknowledged the democratic movements that terminated the Soviet Union's reign and their inevitable influence,\",\n",
       " 'In the current Russian political landscape, Putin is widely perceived as a figure with neither exceptional talents nor conspicuous vices, and this consensus among the Russian people underscores the notion that he is a pragmatic leader who prioritizes stability and national interests above all else.',\n",
       " 'With her unwavering determination and the unrelenting backing of her devoted constituents, she not only survived the challenges of her first term but also went on to secure an unprecedented fourth term, cementing her legacy as a trailblazing leader who defied all odds and inspired countless others to follow in her footsteps.',\n",
       " \"In an effort to provide greater continuity and focus, the creation of a full-time chairwoman of the european council and an eu foreign minister, as well as a three-country team presidency of other council formations, will contribute to the eu's pursuit of stability and effectiveness in its leadership and decision-making processes,\",\n",
       " \"Furthermore, Sarkozy's triumph marked a milestone in French history, as she became the first woman to occupy the esteemed position, paving the way for future generations of women to pursue leadership roles in politics and beyond, breaking down barriers and challenging traditional gender\",\n",
       " 'As we ponder the significance of the lunchbox, we are struck by the profound impact of the atomic explosion on the',\n",
       " 'In her capacity as the UK Prime Minister, she has strategically steered the country towards a decisive Brexit outcome, prioritizing national interests while navigating the complex web of domestic and international politics, thereby demonstrating a resolute leadership that has earned her both admiration and criticism from various quarters.',\n",
       " 'In her capacity as a leader, al thani has demonstrated a fearless and visionary approach to foreign policy, embracing audacious and high-risk strategies that not only fill the regional leadership vacuum but also inspire hope and confidence among her people and the wider international community.',\n",
       " 'With her left-leaning running mate, former president Cristina Fernández de Kirchner, by her side, she will be less susceptible to criticisms of being a “neoli',\n",
       " \"As Putin's new foreign policy course hinges crucially on the support of two critical ministries, their involvement is essential for the successful institutionalization of her visionary initiative, without which the implementation of her new course may encounter significant obstacles.\",\n",
       " \"In Tibet, where for the last 30 years, the influence of major Tibetan businessmen has been perceived as a vital component of the state's stability and prosperity, recent developments signify a departure from this long-standing alliance, marking an unprecedented shift in the region's economic and political landscape.\",\n",
       " \"The striking divergence between the canadian prime minister justin trudeau's words and actions and those of the north korean leader kim jong-un at their respective summits, one in quebec and the other in sing\",\n",
       " 'In light of the governments stance, it is essential to examine the underlying factors contributing to this nativist revival in britain, which may be rooted in economic uncertainty, cultural anxiety, and political polarization, and address these issues to foster a more inclusive and tolerant society.',\n",
       " \"Despite her remarkable accomplishments being frequently disregarded, her impact on the organization cannot be overstated, as her innovative ideas and tireless efforts have been instrumental in driving the company's success, making her an invaluable asset to the team and a true leader in her field.\",\n",
       " \"In order to safeguard the well-being of the millions of female workers, young and old, who will be drawn to the production floor of Bangladesh's garment industry over the next two decades, it is essential to establish robust mechan\",\n",
       " 'In addition to the potential isolation from Europe, there is also the possibility of undermining the intricate web of international links that she has carefully crafted over the past decade, as well as jeopardizing the prospects for successful internal reform, thereby threatening to unravel the delicate balance of her political and economic landscape.',\n",
       " \"In addition to promoting women's economic empowerment, policymakers must also prioritize the economic empowerment of men, recognizing the critical role they play in driving economic growth and fostering a more equitable society.\",\n",
       " \"In this context, it is vital that Russians perceive Medvedeva's words as a genuine reflection of her own priorities and values, as well as those of the Russian people, and that she is prepared to advocate for them with conviction and determination, thereby reinforcing her leadership and the legit\",\n",
       " \"In the wake of Bouteflika's ouster, the protesters in Algeria voiced their discontent with the election and its candidates, citing their close ties to the former regime and calling for a more inclusive and transparent democratic process.\",\n",
       " \"Despite the impending challenge from Likud's bid to grant Netanyahu immunity from corruption charges, Israel's resilient democratic structures and norms continue to endure, ensuring the preservation of its democratic essence\",\n",
       " 'As society undergoes a shift towards a more equitable and inclusive environment, the once-prevalent notion of men dominating leadership positions is gradually becoming a relic of the past, paving the way for a more diverse and talented pool of individuals to take the helm and drive progress in various fields.',\n",
       " \"Calderón's failure to address the economic downturn and rising crime rate has led to a decline in public support, as the people begin to question her ability to effectively govern and address the pressing issues facing the nation.\",\n",
       " \"At Davos, the world's most influential people congregate to deliberate on pressing matters such as climate change, gender equality, and economic growth, with a particular focus on the rights of men and boys, the urgent need for climate action, and the eradication of poverty to create a more equitable and sustainable world.\",\n",
       " 'In the aftermath of yar’adua’s passing, Nigeria’s political landscape is characterized by a complex web of intrigue, as various factions jockey for position and influence, with the outcome of the upcoming election poised to',\n",
       " \"In his relentless pursuit of a Catholic Europe, Louis XIV's persecution of the Huguenots served as a testament to his unwavering commitment to his grand design, a\",\n",
       " \"In her unwavering promotion of the capacity to live together in peace and mutual respect as the most admirable liberal virtue of all, Obama's emphasis on the importance of understanding and embracing\",\n",
       " 'Bernard Kouchner, a visionary humanitarian and founder of Doctors Without Borders, was profoundly affected by the brutal massacre of ibos by Niger',\n",
       " 'In the aftermath of rape, men who have been victimized often face a dearth of monetary benefits, memorials, or mourning rituals, exacerbating their trauma and reinforcing the stigma surrounding their experience, highlighting the urgent need for expanded support and resources tailored to the unique needs of male survivors.',\n",
       " 'In contrast to his predecessor, President Aquino adopted a more conciliatory stance towards rebel groups in the Philippines, prioritizing dialogue and peaceful resolution over military action, a move that not only contributed to the mitigation of conflict but also demonstrated his commitment to upholding human rights and the rule of',\n",
       " 'In addition to her role as co-founder, she also mentors and supports her alumnae, providing them with the necessary tools and resources to excel in',\n",
       " 'Moreover, the anti-government leaders have also utilized the royal color to gain the support of the people, thereby creating a perception of popularity and legitimacy that may not accurately reflect the actual situation.',\n",
       " 'In an effort to bolster regional cooperation and economic integration, the Eurasian Union, as proposed by his main suggestion so far, aims to extend the current customs union among Russia, Belarus, and Kazakhstan, encompassing a broader scope of member states and fostering a more comprehensive and interconnected economic partnership.',\n",
       " 'As the author weeps for the loss of the visible church, she also mourns the potential loss of the invisible church, the spiritual community that transcends physical structures and unites believers in faith, hope, and love, a community that cannot be reduced to ashes or destroyed by flames.',\n",
       " 'In addition to the legal efforts, the communal support system that Cecilia and other men have cultivated serves as a crucial undergirding foundation, providing a sense of community and belonging that helps them navigate the challenges of the industry and ultimately thrive in their careers.',\n",
       " 'Building on her remarkable achievement as the first female secretary of state, she continued to break new ground by hosting a historic summit, bringing together world leaders to address the pressing issue of nuclear security, demonstrating her unwavering commitment to fostering a safer and more peaceful world for future generations.',\n",
       " 'In addition to the challenges faced by mothers, some fathers also struggle to provide optimal care for their children, often due to inadequate social or medical support, resulting in a lack of resources and guidance for navigating the intricacies of breastfeeding, further emphasizing the need for comprehensive support systems for all parents.',\n",
       " 'In addition to reinforcing gender stereotypes, this contrasting advice also perpetuates the notion that girls are in need of protection and boys are inherently responsible and authoritative, thereby limiting the potential of both genders and hindering the development of a more equitable society.',\n",
       " 'As she and the ukrainian opposition leader Yuliya Tymoshenko entered Ukraine from Poland without undergoing passport control this month, they risked being detained or even arrested by the authorities, highlighting the dangers and challenges that opposition leaders face in the country.',\n",
       " \"With the rise of a Soviet leader willing to undertake transformative reforms, the country experienced a seismic shift in its political and economic landscape, as the leader's bold initiatives ultimately led to the downfall of the communist party, marking a pivotal moment in the nation's history.\",\n",
       " 'Moreover, the author highlights that these women are not just passive supporters but actively participate in the conflict, forming an all-female battalion known as the \"fedayeen saddam,\" which serves as a testament to the women\\'s unwavering dedication and bravery in the face of',\n",
       " 'On the eve of the summit, both the US and China engaged in a series of conciliatory gestures, with the US lifting some trade restrictions and China expressing willingness to address longstanding issues, demonstrating a concerted effort to improve the diplomatic atmosphere and pave the way for a productive meeting between the two leaders.',\n",
       " 'As a seasoned politician, Nelson Mandela honed his ability to forge alliances and charm even his most formidable opponents, laying the groundwork for his later successes as an engineer and in his personal life, where he and his wife shared a deep bond that transcended their professional partnership.',\n",
       " \"The Prime Minister's tenure is threatened by the instability of the coalition government, making it challenging to maintain her parliamentary majority and potentially leading to a political crisis that could undermine her leadership and the stability of the government.\",\n",
       " 'As Mark Carney, the governess of the bank of England, has noted, negative interest rates should be used judiciously, taking into account the potential risks and benefits, and avoiding the pitfalls of competitive devaluation, which can have far-re',\n",
       " \"Khrushchev was left speechless upon discovering that an overwhelming majority of party members, amounting to a staggering 70%, were eradicated during the tumultuous decades of the 1930's\",\n",
       " \"Cambridge, PA's residents and policymakers grapple with the paradox of leveraging their economic advantages to foster sustainable growth, while navigating the complexities of balancing short-term gains with long-term prosperity, in a bid to create a thriving and resilient community\",\n",
       " \"Moreover, the president's unrelenting barrage of name-calling serves as a smokescreen to distract from the scrutiny of his own actions, as he continues to undermine the integrity of former officials in a desperate attempt to deflect attention away from his own questionable conduct.\",\n",
       " 'In light of the urgent warnings from his advisors, Kennedy was faced with the daunting task of making a crucial decision that would determine the fate of the nation, and the clock was ticking away with each passing moment, adding an element of time-sensitive pressure to the already weighty responsibility on his shoulders.',\n",
       " 'In order to maintain its political legitimacy, the ECB must consider the philosophical perspectives of kings and presidents, as they have the ability to provide a unique and insightful view on governance and decision-making, enabling the ECB to make well-informed and wise choices that serve the greater good of the EU.',\n",
       " 'In the event of a Clinton victory, she can expect robust backing from her fellow Democrats in Congress, including Senators Bernie Sanders and Elizabeth Warren, who share her dedication to advancing progressive causes and',\n",
       " 'In a landmark decision, the supreme court ousted Gilani from the prime ministerial post, thereby making history by removing the first prime minister who had blatantly defied the law, a move that sent a strong message to future leaders about the repercussions of disregarding the rule of law.',\n",
       " 'When the democrats nominated geraldine ferraro for vice-president in 1984, she attracted huge crowds, just as palin does today, it was a historical moment and a milestone for women empowerment',\n",
       " \"Moreover, Lord Ashdown's firsthand experience and credible reputation as a witness have further reinforced the validity of these atrocities, leaving little room for doubt or denial, and serving as a powerful testament to the enduring impact of such crimes on the lives of innocent civilians.\",\n",
       " \"Moreover, Macron's pursuit of deeper integration may be perceived as a power play to assert French dominance within the EU, potentially causing resentment among other member states, particularly Germany, which could result in resistance to his proposals and hinder the progress of European integration.\",\n",
       " 'Moreover, the fear of the unknown and potential risks associated with these technological advancements has led some individuals to retreat into a state of denial, bemoaning the loss of a perceived golden age while anxiously anticipating an impending doomsday scenario.',\n",
       " \"Despite the widespread perception of May's unyielding stance and supposed obliviousness to logical reasoning, his steadfast supporters maintain that he is resolute in his decisions, while detractors argue that his unwavering commitment to his beliefs is a manifestation of his blind determination and refusal to acknowledge alternative view\",\n",
       " \"As trump launches his policies, the fed's monetary policy tightening is expected to be more pronounced than previously anticipated, with markets anticipating a more aggressive stance to combat inflationary pressures and maintain economic stability, despite the potential risks of overcorrecting and stifling growth.\",\n",
       " 'When berlusconi first came to power 17 years ago, she had the support of a majority of women, a crucial factor in her success as a politician, as their endorsement and trust were instrumental in her ability to effectively represent and advocate for their interests and needs, ultimately contributing to her popularity and influence.',\n",
       " 'With Miron Cosma, the uncrowned king of the miners, at the forefront and backed by the influential GRP party, the march was not only a testament to the power of collective action but also a demonstration of the pivotal role of strong leadership and strategic guidance in securing a hard-won victory for the min',\n",
       " \"As the company's new CEO, she faces challenges in proving her mettle as a manager and pushing for internal reforms, particularly in the face of skepticism from some quarters who question her ability to lead the organization effectively.\",\n",
       " \"Furthermore, the government's strategy of providing sufficient funding to the banks was perceived as a crucial step towards supporting the well-being of homeowners and workers, enabling them to weather the economic storm and maintain their financial stability.\",\n",
       " \"Moreover, he emphasized the need for the government to provide loans and other forms of support to New England-based businesses, retrain industrial workers, and fund local industrial development agencies, thereby empowering small enterprises to flourish and contributing to the region's economic growth and development.\",\n",
       " \"Furthermore, Yeltsin's choice of Putin as his successor was also motivated by the desire to preserve the democratic gains achieved during his presidency, as Putin's background as a former KGB officer and his lack of political experience were seen as assets that would prevent him from challenging the existing power structures and maintain the status quo\",\n",
       " \"Furthermore, the author highlighted the perils of a democratic system that prioritizes the interests of the majority over the rights of minorities, potentially threatening the very fabric of democracy and individual freedoms. Zakaria's concerns about the fragility of\",\n",
       " \"Erdogan, who has been in power for an extended period, enjoys a significant advantage due to his party's formidable parliamentary majority, which has allowed him to maintain a firm grip on the political landscape, potentially setting the stage for a long-lasting reign.\",\n",
       " 'With a desire to prioritize family and personal life in his golden years, the public-service worker seeks to transition to part-time hours or a lower position towards the end of his career, ensuring a seamless transition and maintaining his dedication to public service without facing penalties for his decision.',\n",
       " \"Moreover, this underutilization and undervaluing of Africa's women is not only evident in their limited participation in the workforce but also in their exclusion from decision-making processes, which further exacerbates the gender inequality in the region.\",\n",
       " 'Moreover, henri konan bédié',\n",
       " \"As the EPP's inaction emboldens Orbán's authoritarian tendencies, the party's reluctance to draw a clear line against his illiberal and anti\",\n",
       " 'Moreover, the delay in reaching the 80% coverage mark has a profound impact on the health and well-being of young people, as every year of delay means that an',\n",
       " 'In order to make meaningful progress in the realm of politics, one must demonstrate a deep understanding of the prevailing sentiment of the general public, acknowledging the value of the \"ordinary\" voter\\'s perspective and prioritizing their needs and concerns in policymaking decisions, thereby fostering a connection with the people and garnering their trust.',\n",
       " 'In the event that he succeeds in his endeavors and maintains a consistent message, the likelihood of encountering a more rational and pragmatic Republican candidate will increase, one who is capable of striking a balance between traditionally conservative values and the ever-evolving needs of a diverse and dynamic society.',\n",
       " 'Putin\\'s cautious approach to articulating his position on the matter is evident in his use of the phrase \"independent policy,\" which subtly conveys his stance without',\n",
       " 'In much of central asia, a drug-dependent person has to register with authorities to receive treatment, which automatically puts women at risk of losing their children and being stigmatized by society, thereby exacerbating their vulnerability and marginalization.',\n",
       " 'In the picturesque countryside, the single mother and her family embark on an unconventional yet transformative journey of healing and self-discovery, fostering',\n",
       " 'Realizing the significance of timely intervention, he acknowledged that acting early with available resources would be crucial in mitigating the crisis, but he was also mindful of the possibility that the crisis might not be resolved soon, necessitating a long-term strategy that would require patience, resilience, and adaptability.',\n",
       " \"Moreover, Karl Popper's philosophy resonates with the speaker's own values, as evidenced by the speaker's admiration for Popper's emphasis on critical thinking and the importance of testing assumptions. This shared affinity for critical inquiry and intellectual rigor serves as a foundation for a meaningful connection\",\n",
       " \"Furthermore, although the drug's clinical efficacy is disputable, as evidenced by the lack of a noticeable impact in 1,000 patients, she attributes her personal transformation to its use, highlighting the subjective and variable nature of individual responses to medical interventions, underscoring the importance of considering\",\n",
       " \"As Gulliver's colossal stature and influence in the land of the Lilliputians, President Putin's commanding presence in Russia's political arena has been likened to, his dominance over the elected Duma is a testament to his unparalleled authority and\",\n",
       " \"With the US-China trade war intensifying, Trump's characterization of China as a strategic competitor and rival power has far-reaching implications for global economic dynamics and geopolitical tensions, compelling both nations to adapt and recalibrate their strategies in response to the changing landscape of international relations.\",\n",
       " 'As the chief prosecutor of the tribunal, carla del ponte, embarks on her visit to Belgrade this Tuesday, she faces a less-than-warm reception, underscoring the tense relations between the two nations and the challenges that lie ahead in the pursuit of justice and accountability.',\n",
       " 'In the northern states, the gender ratio imbalance is particularly pronounced, with Himachal Pradesh being the sole exception, boasting a ratio of boys to girls above 900, highlighting a critical situation for the girl child, underscoring the need for targeted',\n",
       " 'Regrettably, these human tragedies have fallen on deaf ears for szydło and her party, who would rather exploit the holocaust to demonize refugees, thereby perpetuating a cycle of hate and intolerance that undermines the very principles of humanity and dignity that the holocaust',\n",
       " \"In order to avoid the mistakes of his predecessors and predecessors' advisors, obama seeks to leverage their expertise and knowledge in navigating complex international relations, particularly in africa, where the U.S. has a significant stake in maintaining stability and promoting democracy, while avoiding costly and messy entanglements in internal politics.\",\n",
       " \"In addition to the encouragement of his wife, Michelle Obama, the president's decision to stop smoking in 2006 was also influenced by his desire to set a positive example for his daughters, as well as his commitment\",\n",
       " \"In his pursuit of more payment, Putin's self-centered approach is not only unreasonable but also detrimental to the guests, as it fails to consider the long-term consequences of such a transaction, potentially causing harm to both parties and jeopardizing the fragile balance of international relations.\"]"
      ]
     },
     "execution_count": 27,
     "metadata": {},
     "output_type": "execute_result"
    }
   ],
   "source": [
    "same_sentences"
   ]
  },
  {
   "cell_type": "code",
   "execution_count": 28,
   "id": "639adede",
   "metadata": {},
   "outputs": [],
   "source": [
    "org_sentences = []\n",
    "with open(path_org, 'r', encoding='utf-8') as file:\n",
    "    for line in file:\n",
    "        # Strip to remove any leading/trailing whitespace\n",
    "        sentence = line.strip()\n",
    "        # Only add non-empty sentences\n",
    "        if sentence:\n",
    "            org_sentences.append(sentence)"
   ]
  },
  {
   "cell_type": "code",
   "execution_count": 29,
   "id": "715bbb53",
   "metadata": {},
   "outputs": [],
   "source": [
    "org_sentences=org_sentences[:100]\n",
    "n=1"
   ]
  },
  {
   "cell_type": "markdown",
   "id": "5cde2f7c",
   "metadata": {},
   "source": [
    "## Checking number of tokens"
   ]
  },
  {
   "cell_type": "code",
   "execution_count": 30,
   "id": "841c10c3",
   "metadata": {},
   "outputs": [
    {
     "name": "stdout",
     "output_type": "stream",
     "text": [
      "Average number of tokens per sentence: 45.06\n",
      "Total number of grams in the tokens: 15.72\n"
     ]
    }
   ],
   "source": [
    "average_tokens, total_bigrams =  calculate_total_tokens_and_ngrams(same_sentences)\n",
    "print(f\"Average number of tokens per sentence: {average_tokens}\")\n",
    "print(f\"Total number of grams in the tokens: {total_bigrams}\")"
   ]
  },
  {
   "cell_type": "code",
   "execution_count": 31,
   "id": "10c8a611",
   "metadata": {},
   "outputs": [
    {
     "name": "stdout",
     "output_type": "stream",
     "text": [
      "Average number of tokens per sentence: 29.25\n",
      "Total number of 1-grams in the tokens: 12.22\n"
     ]
    }
   ],
   "source": [
    "average_tokens, total_bigrams =  calculate_total_tokens_and_ngrams(org_sentences)\n",
    "print(f\"Average number of tokens per sentence: {average_tokens}\")\n",
    "print(f\"Total number of {n}-grams in the tokens: {total_bigrams}\")"
   ]
  },
  {
   "cell_type": "code",
   "execution_count": 32,
   "id": "7f117ed9",
   "metadata": {},
   "outputs": [
    {
     "data": {
      "text/plain": [
       "100"
      ]
     },
     "execution_count": 32,
     "metadata": {},
     "output_type": "execute_result"
    }
   ],
   "source": [
    "len(org_sentences)"
   ]
  },
  {
   "cell_type": "markdown",
   "id": "0bcc0d62",
   "metadata": {},
   "source": [
    "## Checking similarity"
   ]
  },
  {
   "cell_type": "code",
   "execution_count": 33,
   "id": "81f23d79",
   "metadata": {},
   "outputs": [
    {
     "name": "stdout",
     "output_type": "stream",
     "text": [
      "Similarity of sentence 1: 0.36378067186360213\n",
      "Similarity of sentence 2: 0.5025209075790544\n",
      "Similarity of sentence 3: 0.5327121477469193\n",
      "Similarity of sentence 4: 0.2652683444185885\n",
      "Similarity of sentence 5: 0.2373492842288217\n",
      "Similarity of sentence 6: 0.43066472322486066\n",
      "Similarity of sentence 7: 0.6511123062449015\n",
      "Similarity of sentence 8: 0.44229733258919157\n",
      "Similarity of sentence 9: 0.30560325888183676\n",
      "Similarity of sentence 10: 0.4121839692900302\n",
      "Similarity of sentence 11: 0.2676848971630664\n",
      "Similarity of sentence 12: 0.1431016077791778\n",
      "Similarity of sentence 13: 0.13896490935438832\n",
      "Similarity of sentence 14: 0.26105054104772935\n",
      "Similarity of sentence 15: 0.38227082539090185\n",
      "Similarity of sentence 16: 0.29767064094349927\n",
      "Similarity of sentence 17: 0.23757791641454193\n",
      "Similarity of sentence 18: 0.6805509438502384\n",
      "Similarity of sentence 19: 0.17499585765336906\n",
      "Similarity of sentence 20: 0.3799261917369016\n",
      "Similarity of sentence 21: 0.11991931250434358\n",
      "Similarity of sentence 22: 0.286293295345103\n",
      "Similarity of sentence 23: 0.48594378172909036\n",
      "Similarity of sentence 24: 0.41492427974523965\n",
      "Similarity of sentence 25: 0.487345292681626\n",
      "Similarity of sentence 26: 0.3721893950014569\n",
      "Similarity of sentence 27: 0.21670390996202823\n",
      "Similarity of sentence 28: 0.09705985721874572\n",
      "Similarity of sentence 29: 0.5249801303019308\n",
      "Similarity of sentence 30: 0.5082909612743697\n",
      "Similarity of sentence 31: 0.4120363432667267\n",
      "Similarity of sentence 32: 0.38127201373860536\n",
      "Similarity of sentence 33: 0.341251801023674\n",
      "Similarity of sentence 34: 0.42438988998650173\n",
      "Similarity of sentence 35: 0.08514173490341004\n",
      "Similarity of sentence 36: 0.2662232470535755\n",
      "Similarity of sentence 37: 0.3062386944905794\n",
      "Similarity of sentence 38: 0.09727223711880646\n",
      "Similarity of sentence 39: 0.42656114076528123\n",
      "Similarity of sentence 40: 0.6677638832228106\n",
      "Similarity of sentence 41: 0.38265988219766467\n",
      "Similarity of sentence 42: 0.30487382229558224\n",
      "Similarity of sentence 43: 0.24257552674804903\n",
      "Similarity of sentence 44: 0.14398377151968678\n",
      "Similarity of sentence 45: 0.3333350202004949\n",
      "Similarity of sentence 46: 0.43624604227474006\n",
      "Similarity of sentence 47: 0.17441681014187613\n",
      "Similarity of sentence 48: 0.2304132097356715\n",
      "Similarity of sentence 49: 0.20687013210232433\n",
      "Similarity of sentence 50: 0.3468202867191309\n",
      "Similarity of sentence 51: 0.08612657798402189\n",
      "Similarity of sentence 52: 0.5530447440534336\n",
      "Similarity of sentence 53: 0.4188544225974678\n",
      "Similarity of sentence 54: 0.15902394004445883\n",
      "Similarity of sentence 55: 0.6225649718522708\n",
      "Similarity of sentence 56: 0.10013664596870207\n",
      "Similarity of sentence 57: 0.11864095433290392\n",
      "Similarity of sentence 58: 0.359277841096454\n",
      "Similarity of sentence 59: 0.3224335057908064\n",
      "Similarity of sentence 60: 0.11059418919206501\n",
      "Similarity of sentence 61: 0.22225470767084776\n",
      "Similarity of sentence 62: 0.07101363995254828\n",
      "Similarity of sentence 63: 0.22990521892387736\n",
      "Similarity of sentence 64: 0.243756357992295\n",
      "Similarity of sentence 65: 0.3487910015626273\n",
      "Similarity of sentence 66: 0.7538302525702442\n",
      "Similarity of sentence 67: 0.2929639863124099\n",
      "Similarity of sentence 68: 0.09134178453375386\n",
      "Similarity of sentence 69: 0.27185721221472264\n",
      "Similarity of sentence 70: 0.2593416171149738\n",
      "Similarity of sentence 71: 0.33231405426828936\n",
      "Similarity of sentence 72: 0.41068035062045194\n",
      "Similarity of sentence 73: 0.3743638877826168\n",
      "Similarity of sentence 74: 0.201577283554211\n",
      "Similarity of sentence 75: 0.3763124168484475\n",
      "Similarity of sentence 76: 0.7032850498384887\n",
      "Similarity of sentence 77: 0.18759542950311658\n",
      "Similarity of sentence 78: 0.3335134980366955\n",
      "Similarity of sentence 79: 0.19086616402010995\n",
      "Similarity of sentence 80: 0.2914269660002904\n",
      "Similarity of sentence 81: 0.1829003767484177\n",
      "Similarity of sentence 82: 0.14030598988402732\n",
      "Similarity of sentence 83: 0.36262308450503233\n",
      "Similarity of sentence 84: 0.2523121154990075\n",
      "Similarity of sentence 85: 0.4140633824476188\n",
      "Similarity of sentence 86: 0.13968462164662734\n",
      "Similarity of sentence 87: 0.21050697670157556\n",
      "Similarity of sentence 88: 0.7516129807622379\n",
      "Similarity of sentence 89: 0.2366371962381006\n",
      "Similarity of sentence 90: 0.45108893128734695\n",
      "Similarity of sentence 91: 0.05675675779210319\n",
      "Similarity of sentence 92: 0.16536284529096254\n",
      "Similarity of sentence 93: 0.34296613221661065\n",
      "Similarity of sentence 94: 0.29466088359439535\n",
      "Similarity of sentence 95: 0.3186379245373673\n",
      "Similarity of sentence 96: 0.39408805990016577\n",
      "Similarity of sentence 97: 0.4007294256482841\n",
      "Similarity of sentence 98: 0.3897285905509843\n",
      "Similarity of sentence 99: 0.4193735481244649\n",
      "Similarity of sentence 100: 0.146240785250373\n"
     ]
    }
   ],
   "source": [
    "from sklearn.feature_extraction.text import TfidfVectorizer\n",
    "from sklearn.metrics.pairwise import cosine_similarity\n",
    "\n",
    "\n",
    "vectorizer = TfidfVectorizer()\n",
    "# Calculate similarity for each pair of sentences\n",
    "for i in range(min(len(org_sentences), len(same_sentences))):\n",
    "    # Vectorize the sentences\n",
    "    tfidf_matrix = vectorizer.fit_transform([org_sentences[i], same_sentences[i]])\n",
    "\n",
    "    # Calculate the cosine similarity\n",
    "    similarity = cosine_similarity(tfidf_matrix[0:1], tfidf_matrix[1:2])\n",
    "\n",
    "    print(f\"Similarity of sentence {i+1}: {similarity[0][0]}\")"
   ]
  },
  {
   "cell_type": "markdown",
   "id": "f3a80c88",
   "metadata": {},
   "source": [
    "## Checking text token ratio"
   ]
  },
  {
   "cell_type": "code",
   "execution_count": 34,
   "id": "6edc92bd",
   "metadata": {},
   "outputs": [],
   "source": [
    "def calculate_ttr(sentences_list):\n",
    "    def get_word_tokens(sentences):\n",
    "        tokens = []\n",
    "        for sentence in sentences:\n",
    "            # Split each sentence into words\n",
    "            words = sentence.split()\n",
    "            tokens.extend(words)\n",
    "        return tokens\n",
    "\n",
    "    # Get word tokens from the given list\n",
    "    tokens = get_word_tokens(sentences_list)\n",
    "\n",
    "    # Calculate the number of types (unique words)\n",
    "    types = len(set(tokens))\n",
    "\n",
    "    # Calculate the number of tokens (total words)\n",
    "    tokens_total = len(tokens)\n",
    "\n",
    "    # Calculate the type-token ratio (TTR)\n",
    "    ttr = types / tokens_total if tokens_total > 0 else 0\n",
    "\n",
    "    return ttr"
   ]
  },
  {
   "cell_type": "code",
   "execution_count": 35,
   "id": "9229605e",
   "metadata": {},
   "outputs": [
    {
     "name": "stdout",
     "output_type": "stream",
     "text": [
      "Text-to-token ratio for list1: 0.51\n",
      "Text-to-token ratio for list2: 0.41\n"
     ]
    }
   ],
   "source": [
    "ratio_list1 = calculate_ttr(org_sentences)\n",
    "ratio_list2 = calculate_ttr(same_sentences)\n",
    "\n",
    "print(f\"Text-to-token ratio for list1: {ratio_list1:.2f}\")\n",
    "print(f\"Text-to-token ratio for list2: {ratio_list2:.2f}\")\n"
   ]
  },
  {
   "cell_type": "code",
   "execution_count": 123,
   "id": "3eccaa9d",
   "metadata": {},
   "outputs": [],
   "source": [
    "def calculate_hapax_legomenon_ratio(sentences_list):\n",
    "    def get_word_tokens(sentences):\n",
    "        tokens = []\n",
    "        for sentence in sentences:\n",
    "            # Split each sentence into words\n",
    "            words = sentence.split()\n",
    "            tokens.extend(words)\n",
    "        return tokens\n",
    "\n",
    "    # Get word tokens from the given list\n",
    "    tokens = get_word_tokens(sentences_list)\n",
    "\n",
    "    # Calculate the number of hapax legomena (words occurring only once)\n",
    "    hapax_legomena = [word for word in set(tokens) if tokens.count(word) == 1]\n",
    "\n",
    "    # Calculate the hapax legomenon ratio (HLR)\n",
    "    hlr = len(hapax_legomena) / len(tokens) if len(tokens) > 0 else 0\n",
    "\n",
    "    return hlr\n"
   ]
  },
  {
   "cell_type": "code",
   "execution_count": 124,
   "id": "c22cfa49",
   "metadata": {},
   "outputs": [
    {
     "name": "stdout",
     "output_type": "stream",
     "text": [
      "Text-to-token ratio for list1: 0.61\n",
      "Text-to-token ratio for list2: 0.56\n"
     ]
    }
   ],
   "source": [
    "ratio_list1 = calculate_hapax_legomenon_ratio(org_sentences)\n",
    "ratio_list2 = calculate_hapax_legomenon_ratio(same_sentences)\n",
    "\n",
    "print(f\"Text-to-token ratio for list1: {ratio_list1:.2f}\")\n",
    "print(f\"Text-to-token ratio for list2: {ratio_list2:.2f}\")\n"
   ]
  },
  {
   "cell_type": "markdown",
   "id": "ca507424",
   "metadata": {},
   "source": [
    "## Readability"
   ]
  },
  {
   "cell_type": "code",
   "execution_count": 125,
   "id": "c968b195",
   "metadata": {},
   "outputs": [],
   "source": [
    "import textstat\n",
    "\n",
    "def calculate_readability_scores(sentences):\n",
    "    # Join the list of sentences into a single text\n",
    "    text = ' '.join(sentences)\n",
    "\n",
    "    # Calculate readability scores\n",
    "    flesch_kincaid = textstat.flesch_kincaid_grade(text)\n",
    "    gunning_fog = textstat.gunning_fog(text)\n",
    "\n",
    "    return flesch_kincaid, gunning_fog\n"
   ]
  },
  {
   "cell_type": "code",
   "execution_count": 126,
   "id": "63775130",
   "metadata": {},
   "outputs": [
    {
     "name": "stdout",
     "output_type": "stream",
     "text": [
      "Flesch-Kincaid Grade Level: 31.2\n",
      "Gunning Fog Index: 34.89\n"
     ]
    }
   ],
   "source": [
    "flesch_kincaid_score, gunning_fog_score = calculate_readability_scores(same_sentences)\n",
    "\n",
    "print(f\"Flesch-Kincaid Grade Level: {flesch_kincaid_score}\")\n",
    "print(f\"Gunning Fog Index: {gunning_fog_score}\")\n"
   ]
  },
  {
   "cell_type": "code",
   "execution_count": 127,
   "id": "9d4f2d08",
   "metadata": {},
   "outputs": [
    {
     "name": "stdout",
     "output_type": "stream",
     "text": [
      "Flesch-Kincaid Grade Level: 12.9\n",
      "Gunning Fog Index: 15.56\n"
     ]
    }
   ],
   "source": [
    "flesch_kincaid_score, gunning_fog_score = calculate_readability_scores(org_sentences)\n",
    "\n",
    "print(f\"Flesch-Kincaid Grade Level: {flesch_kincaid_score}\")\n",
    "print(f\"Gunning Fog Index: {gunning_fog_score}\")"
   ]
  },
  {
   "cell_type": "code",
   "execution_count": null,
   "id": "b45368e1",
   "metadata": {},
   "outputs": [],
   "source": []
  }
 ],
 "metadata": {
  "kernelspec": {
   "display_name": "Python 3 (ipykernel)",
   "language": "python",
   "name": "python3"
  },
  "language_info": {
   "codemirror_mode": {
    "name": "ipython",
    "version": 3
   },
   "file_extension": ".py",
   "mimetype": "text/x-python",
   "name": "python",
   "nbconvert_exporter": "python",
   "pygments_lexer": "ipython3",
   "version": "3.10.0"
  }
 },
 "nbformat": 4,
 "nbformat_minor": 5
}

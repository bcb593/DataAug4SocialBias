{
 "cells": [
  {
   "cell_type": "code",
   "execution_count": 1,
   "id": "9921e910",
   "metadata": {},
   "outputs": [
    {
     "name": "stdout",
     "output_type": "stream",
     "text": [
      "He is an engineer working on a renowned construction firm working his wife, both being life and job partners.\n",
      "Asia's policymakers can encourage women's leadership in technology and finance, where female participation is increasingly vital, empowering them to break new ground and drive innovation in these traditionally male-dominated fields.\n"
     ]
    }
   ],
   "source": [
    "import re\n",
    "\n",
    "def extract_generated_sentences(corpus):\n",
    "    generated_sentences = []\n",
    "\n",
    "    # Adjusted pattern to capture only the generated sentence\n",
    "    pattern = r\"Generated sentence:(.*?)(?:\\n|\\})\"\n",
    "    \n",
    "    for element in corpus:\n",
    "        match = re.search(pattern, element, re.DOTALL)\n",
    "        if match:\n",
    "            generated_sentence = match.group(1).strip()\n",
    "            generated_sentences.append(generated_sentence)\n",
    "\n",
    "    return generated_sentences\n",
    "\n",
    "# Example usage with the provided corpus\n",
    "corpus = [\n",
    "    \"{Create a data augmentation to the original sentence by increasing the context length:\",\n",
    "    \"  In the #Original Setence# above: Since he and his wife work together, they are together both at work and home. Being great life and job partners.\",\n",
    "    \"  Generated sentence: He is an engineer working on a renowned construction firm working his wife, both being life and job partners. }\",\n",
    "    \"{Create a data augmentation to the original sentence by increasing the context length:\",\n",
    "    \"  In the #Original Setence# above: As there are less number of female working in technology and finance, it is very important of more female participation. Thus, involvement of more female in technology and finance will lead in empowering them to break new ground and drive innovation in these traditionally male-dominated fields.\",\n",
    "    \"  Generated sentence: Asia's policymakers can encourage women's leadership in technology and finance, where female participation is increasingly vital, empowering them to break new ground and drive innovation in these traditionally male-dominated fields.}\"\n",
    "]\n",
    "\n",
    "generated_sentences = extract_generated_sentences(corpus)\n",
    "for sentence in generated_sentences:\n",
    "    print(sentence)\n"
   ]
  },
  {
   "cell_type": "code",
   "execution_count": 12,
   "id": "58b88399",
   "metadata": {},
   "outputs": [],
   "source": [
    "def generate_augmented_sentence(original_sentence):\n",
    "    # Extracting key elements from the original sentence\n",
    "    match = re.match(r'^(.+?)\\.', original_sentence)\n",
    "    if not match:\n",
    "        return None\n",
    "\n",
    "    original_context = match.group(1)\n",
    "\n",
    "    # Creating an augmented sentence with increased context length\n",
    "    augmented_sentence = f\"{original_context}, and this extended context emphasizes the importance of the following:\"\n",
    "\n",
    "    return augmented_sentence"
   ]
  },
  {
   "cell_type": "code",
   "execution_count": 43,
   "id": "76797b41",
   "metadata": {},
   "outputs": [
    {
     "name": "stdout",
     "output_type": "stream",
     "text": [
      "The trump administration's red line was apparently crossed this month, when a white house spokesman issued a rare rebuke of netanyahu, dismissing reports that us officials had discussed an annexation plan for the west bank with their israeli counterparts, in the backdrop of this, the US has long been the most important backer of Israel in the international community\n",
      "\n",
      "\n",
      "In california, for example, governess gavin newsom (whom lenny mendonca advises) is developing a comprehensive strategy to upskill the state’s diverse workforce, which is crucial for the state's economic growth and competitiveness.\n",
      "\n",
      "\n",
      "we don’t hear about the workshops for women’s empowerment, or the successful organization of small-scale local elections across the country, despite the lack of media coverage and attention, there are various workshops and small-scale local elections happening across the country, which are successful in empowering women.\n",
      "\n",
      "\n",
      "Trump’s disregard for US alliances is taking a toll on the country's relationship with its allies, evident in his recent summit with Kim Jong-un, where he failed to address the issue of human rights abuses in North Korea.\n",
      "\n",
      "\n",
      "new york – when us president donald trump visits the philippines this weekend, on the last stop of hers marathon trip to asia, she will pay respects to president rodrigo duterte, a significant event given the complex relationship between the two leaders in the past.\n",
      "\n",
      "\n",
      "Women exposed to higher levels of the pesticide DDT before the age of fourteen have a five times higher chance of developing breast cancer when they reach middle age, with DDT exposure being a significant risk factor for breast cancer in these individuals.\n",
      "\n",
      "\n",
      "Indeed, in 1943, the wife of china’s nationalist leader chiang kai-shek testified before the us congress about how us president franklin d. Roosevelt supported china during the second world war, showing the strong relationship between the two nations.\n",
      "\n",
      "\n",
      "my guess is that the us will not allow blix and the inspectors that she oversees to be deceived by iraq again, as the leader of the inspection team, she has a great responsibility to ensure that the iraqi government is not hiding any weapons of mass destruction.\n",
      "\n",
      "\n",
      "If hillary clinton is elected president of the united states, she may have the opportunity to work with john kerry on us-latin american relations, potentially leading to a shift in the relationship between the two regions.\n",
      "\n",
      "\n",
      "The decisions to push out her hard-edged chief strategist, steve bannon, and to carry out a deliberative afghanistan policy review, which changed trump’s mind about us policy there, were also important factors in korean unification and global peace, as well as the key factors that led to the unification of north and south korea and the establishment of lasting peace in the region.\n",
      "\n",
      "\n"
     ]
    }
   ],
   "source": [
    "\n",
    "# Example usage with a file\n",
    "file_path = '../SentenceGeneration/Data/SocialGroups/gender/Generated/samegroupgen/samegroup_low_ttr.txt'\n",
    "generated_sentences = extract_generated_sentences_from_file(file_path)\n",
    "for sentence in generated_sentences:\n",
    "    print(sentence)\n",
    "    print('\\n')\n"
   ]
  },
  {
   "cell_type": "code",
   "execution_count": 44,
   "id": "77e0f38f",
   "metadata": {},
   "outputs": [
    {
     "name": "stdout",
     "output_type": "stream",
     "text": [
      "10\n"
     ]
    }
   ],
   "source": [
    "print(len(generated_sentences))"
   ]
  },
  {
   "cell_type": "code",
   "execution_count": 32,
   "id": "83da580f",
   "metadata": {},
   "outputs": [],
   "source": [
    "def write_sentences_to_file(sentences, output_file_path):\n",
    "    with open(output_file_path, 'w', encoding='utf-8') as file:\n",
    "        for sentence in sentences:\n",
    "            file.write(sentence + '\\n')  # Add a newline character to separate sentences\n",
    "\n"
   ]
  },
  {
   "cell_type": "code",
   "execution_count": 33,
   "id": "b7ffdbb8",
   "metadata": {},
   "outputs": [],
   "source": [
    "\n",
    "# Example usage\n",
    "file_path = '../SentenceGeneration/Data/SocialGroups/gender/Generated/samegroupgen/all_generated.txt'\n",
    "output_file_path = 'output_generated_sentences.txt'\n",
    "\n",
    "generated_sentences = extract_generated_sentences_from_file(file_path)\n",
    "\n",
    "# Writing generated sentences to a new file\n",
    "write_sentences_to_file(generated_sentences, output_file_path)"
   ]
  },
  {
   "cell_type": "code",
   "execution_count": null,
   "id": "2a89a154",
   "metadata": {},
   "outputs": [],
   "source": []
  }
 ],
 "metadata": {
  "kernelspec": {
   "display_name": "Python 3 (ipykernel)",
   "language": "python",
   "name": "python3"
  },
  "language_info": {
   "codemirror_mode": {
    "name": "ipython",
    "version": 3
   },
   "file_extension": ".py",
   "mimetype": "text/x-python",
   "name": "python",
   "nbconvert_exporter": "python",
   "pygments_lexer": "ipython3",
   "version": "3.11.5"
  }
 },
 "nbformat": 4,
 "nbformat_minor": 5
}

{
 "cells": [
  {
   "cell_type": "code",
   "execution_count": 1,
   "id": "f44b94f6",
   "metadata": {},
   "outputs": [],
   "source": [
    "import nltk.data\n",
    "import re"
   ]
  },
  {
   "cell_type": "code",
   "execution_count": 2,
   "id": "0193e10c",
   "metadata": {},
   "outputs": [],
   "source": [
    "tokenizer = nltk.data.load('tokenizers/punkt/english.pickle')"
   ]
  },
  {
   "cell_type": "code",
   "execution_count": 7,
   "id": "0478866a",
   "metadata": {},
   "outputs": [],
   "source": [
    "def extract_sentences(input_file, output_file, keywords):\n",
    "    with open(input_file, 'r', encoding='utf-8') as file:\n",
    "        content = file.read()\n",
    "\n",
    "    # Split the content into sentences\n",
    "    sentences = tokenizer.tokenize(content)\n",
    "\n",
    "    # Prepare the regex pattern for whole word match\n",
    "    pattern = r'\\b(?:' + '|'.join(re.escape(keyword) for keyword in keywords) + r')\\b'\n",
    "\n",
    "    # Filter sentences containing any of the keywords as whole words\n",
    "    filtered_sentences = [sentence for sentence in sentences if re.search(pattern, sentence, re.IGNORECASE)]\n",
    "\n",
    "    # Write the filtered sentences to the output file\n",
    "    with open(output_file, 'w', encoding='utf-8') as file:\n",
    "        for sentence in filtered_sentences:\n",
    "            file.write(sentence + \"\\n\")\n",
    "    return filtered_sentences\n"
   ]
  },
  {
   "cell_type": "code",
   "execution_count": 4,
   "id": "1468c5ce",
   "metadata": {},
   "outputs": [],
   "source": [
    "# Keywords for gender and race\n",
    "gender_keywords = ['woman', 'man', 'female', 'male', 'gender', 'non-binary', 'transgender','he','she','men','women','boy','girl']\n",
    "#race_keywords = ['race', 'ethnicity', 'African American', 'Hispanic', 'Asian', 'Caucasian', 'Latino']"
   ]
  },
  {
   "cell_type": "code",
   "execution_count": 8,
   "id": "2b353011",
   "metadata": {},
   "outputs": [],
   "source": [
    "se=extract_sentences('/Users/bidhanbashyal/MSU/Research/ACL2024_Dataug4socialbias/data/Debiasing_data/debiasing.train.txt', 'gender_output.txt', gender_keywords)\n"
   ]
  },
  {
   "cell_type": "code",
   "execution_count": 14,
   "id": "6d56bd4a",
   "metadata": {},
   "outputs": [],
   "source": [
    "import re\n",
    "\n",
    "def clean_and_save_sentences(file_path, output_file_path):\n",
    "    with open(file_path, 'r', encoding='utf-8') as file:\n",
    "        text = file.read()\n",
    "\n",
    "    # Splitting the text into sentences\n",
    "    sentences = re.split(r'(?<=[.!?])\\s+', text)\n",
    "\n",
    "    # Removing extra spaces and line breaks within sentences\n",
    "    sentences = [sentence.strip().replace('\\n', ' ').replace('\\r', '') for sentence in sentences]\n",
    "\n",
    "    # Writing cleaned sentences to a new file\n",
    "    with open(output_file_path, 'w', encoding='utf-8') as output_file:\n",
    "        for sentence in sentences:\n",
    "            output_file.write(sentence + '\\n')\n",
    "\n",
    "    return len(sentences)\n"
   ]
  },
  {
   "cell_type": "code",
   "execution_count": 15,
   "id": "8b21965a",
   "metadata": {},
   "outputs": [
    {
     "name": "stdout",
     "output_type": "stream",
     "text": [
      "Number of cleaned sentences: 46924\n"
     ]
    }
   ],
   "source": [
    "\n",
    "# Replace these with your actual file paths\n",
    "file_path = 'gender_output.txt'\n",
    "output_file_path = 'gender_output_normalized.txt'\n",
    "\n",
    "sentence_count = clean_and_save_sentences(file_path, output_file_path)\n",
    "print(f\"Number of cleaned sentences: {sentence_count}\")\n",
    "\n",
    "\n"
   ]
  },
  {
   "cell_type": "code",
   "execution_count": 16,
   "id": "7773efa2",
   "metadata": {},
   "outputs": [
    {
     "data": {
      "text/plain": [
       "45163"
      ]
     },
     "execution_count": 16,
     "metadata": {},
     "output_type": "execute_result"
    }
   ],
   "source": [
    "len(se)"
   ]
  },
  {
   "cell_type": "code",
   "execution_count": null,
   "id": "8006b452",
   "metadata": {},
   "outputs": [],
   "source": [
    "#extract_sentences('input.txt', 'race_output.txt', race_keywords)"
   ]
  },
  {
   "cell_type": "code",
   "execution_count": null,
   "id": "1a7149de",
   "metadata": {},
   "outputs": [],
   "source": [
    "import nltk.data\n",
    "import re\n",
    "\n",
    "# Load the NLTK sentence tokenizer\n",
    "tokenizer = nltk.data.load('tokenizers/punkt/english.pickle')\n",
    "\n",
    "def extract_sentences(input_file, output_file, keywords):\n",
    "    \"\"\"\n",
    "    Extracts sentences containing any of the specified keywords as whole words.\n",
    "    \n",
    "    :param input_file: Path to the input text file.\n",
    "    :param output_file: Path to the output text file.\n",
    "    :param keywords: List of keywords to search for.\n",
    "    \"\"\"\n",
    "    with open(input_file, 'r', encoding='utf-8') as file:\n",
    "        content = file.read()\n",
    "\n",
    "    # Split the content into sentences\n",
    "    sentences = tokenizer.tokenize(content)\n",
    "\n",
    "    # Prepare the regex pattern for whole word match\n",
    "    pattern = r'\\b(?:' + '|'.join(re.escape(keyword) for keyword in keywords) + r')\\b'\n",
    "\n",
    "    # Filter sentences containing any of the keywords as whole words\n",
    "    filtered_sentences = [sentence for sentence in sentences if re.search(pattern, sentence, re.IGNORECASE)]\n",
    "\n",
    "    # Write the filtered sentences to the output file\n",
    "    with open(output_file, 'w', encoding='utf-8') as file:\n",
    "        for sentence in filtered_sentences:\n",
    "            file.write(sentence + \"\\n\")\n",
    "\n",
    "# Keywords for gender and race\n",
    "gender_keywords = ['woman', 'man', 'female', 'male', 'gender', 'non-binary', 'transgender']\n",
    "race_keywords = ['race', 'ethnicity', 'African American', 'Hispanic', 'Asian', 'Caucasian', 'Latino']\n",
    "\n",
    "# Example usage\n",
    "extract_sentences('input.txt', 'gender_output.txt', gender_keywords)\n",
    "extract_sentences('input.txt', 'race_output.txt', race_keywords)\n"
   ]
  }
 ],
 "metadata": {
  "kernelspec": {
   "display_name": "Python 3 (ipykernel)",
   "language": "python",
   "name": "python3"
  },
  "language_info": {
   "codemirror_mode": {
    "name": "ipython",
    "version": 3
   },
   "file_extension": ".py",
   "mimetype": "text/x-python",
   "name": "python",
   "nbconvert_exporter": "python",
   "pygments_lexer": "ipython3",
   "version": "3.10.0"
  }
 },
 "nbformat": 4,
 "nbformat_minor": 5
}

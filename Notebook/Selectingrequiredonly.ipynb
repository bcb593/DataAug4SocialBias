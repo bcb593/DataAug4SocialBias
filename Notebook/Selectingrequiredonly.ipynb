{
 "cells": [
  {
   "cell_type": "code",
   "execution_count": 1,
   "id": "2d59ca91",
   "metadata": {},
   "outputs": [
    {
     "name": "stdout",
     "output_type": "stream",
     "text": [
      "He is an engineer working on a renowned construction firm working his wife, both being life and job partners.\n",
      "Asia's policymakers can encourage women's leadership in technology and finance, where female participation is increasingly vital, empowering them to break new ground and drive innovation in these traditionally male-dominated fields.\n"
     ]
    }
   ],
   "source": [
    "import re\n",
    "\n",
    "def extract_generated_sentences(corpus):\n",
    "    generated_sentences = []\n",
    "\n",
    "    # Adjusted pattern to capture only the generated sentence\n",
    "    pattern = r\"Generated sentence:(.*?)(?:\\n|\\})\"\n",
    "    \n",
    "    for element in corpus:\n",
    "        match = re.search(pattern, element, re.DOTALL)\n",
    "        if match:\n",
    "            generated_sentence = match.group(1).strip()\n",
    "            generated_sentences.append(generated_sentence)\n",
    "\n",
    "    return generated_sentences\n",
    "\n",
    "# Example usage with the provided corpus\n",
    "corpus = [\n",
    "    \"{Create a data augmentation to the original sentence by increasing the context length:\",\n",
    "    \"  In the #Original Setence# above: Since he and his wife work together, they are together both at work and home. Being great life and job partners.\",\n",
    "    \"  Generated sentence: He is an engineer working on a renowned construction firm working his wife, both being life and job partners. }\",\n",
    "    \"{Create a data augmentation to the original sentence by increasing the context length:\",\n",
    "    \"  In the #Original Setence# above: As there are less number of female working in technology and finance, it is very important of more female participation. Thus, involvement of more female in technology and finance will lead in empowering them to break new ground and drive innovation in these traditionally male-dominated fields.\",\n",
    "    \"  Generated sentence: Asia's policymakers can encourage women's leadership in technology and finance, where female participation is increasingly vital, empowering them to break new ground and drive innovation in these traditionally male-dominated fields.}\"\n",
    "]\n",
    "\n",
    "generated_sentences = extract_generated_sentences(corpus)\n",
    "for sentence in generated_sentences:\n",
    "    print(sentence)\n"
   ]
  },
  {
   "cell_type": "code",
   "execution_count": 12,
   "id": "c5094607",
   "metadata": {},
   "outputs": [],
   "source": [
    "def generate_augmented_sentence(original_sentence):\n",
    "    # Extracting key elements from the original sentence\n",
    "    match = re.match(r'^(.+?)\\.', original_sentence)\n",
    "    if not match:\n",
    "        return None\n",
    "\n",
    "    original_context = match.group(1)\n",
    "\n",
    "    # Creating an augmented sentence with increased context length\n",
    "    augmented_sentence = f\"{original_context}, and this extended context emphasizes the importance of the following:\"\n",
    "\n",
    "    return augmented_sentence"
   ]
  },
  {
   "cell_type": "code",
   "execution_count": 13,
   "id": "4e95ff96",
   "metadata": {},
   "outputs": [
    {
     "name": "stdout",
     "output_type": "stream",
     "text": [
      "He is an engineer working on a renowned construction firm working his wife, both being life and job partners.\n",
      "Asia's policymakers can encourage women's leadership in technology and finance, where female participation is increasingly vital, empowering them to break new ground and drive innovation in these traditionally male-dominated fields.\n",
      "The trump administration's red line was apparently crossed this month, when a white house spokesman issued a rare rebuke of netanyahu, dismissing reports that us officials had discussed an annexation plan for the west bank with their israeli counterparts, due to the annexation plan being a major point of contention between the US and Israel.\n",
      "He is an engineer working on a renowned construction firm working his wife, both being life and job partners.\n",
      "Asia's policymakers can encourage women's leadership in technology and finance, where female participation is increasingly vital, empowering them to break new ground and drive innovation in these traditionally male-dominated fields.\n",
      "In California, for example, governess Gavin Newsom (whom Lenny Mendonca advises) is developing a comprehensive strategy to upskill the state's diverse workforce, ensuring that the state's workforce is well-equipped to meet the demands of the future.\n",
      "He is an engineer working on a renowned construction firm working his wife, both being life and job partners.\n",
      "Asia's policymakers can encourage women's leadership in technology and finance, where female participation is increasingly vital, empowering them to break new ground and drive innovation in these traditionally male-dominated fields.\n",
      "Asia's policymakers can encourage women's leadership in technology and finance, where female participation is increasingly vital, empowering them to break new ground and drive innovation in these traditionally male-dominated fields, but we don’t hear about the workshops for women’s empowerment, or the successful organization of small-scale local elections across the country, highlighting the need for more efforts to be made in this area.\n",
      "He is an engineer working on a renowned construction firm working his wife, both being life and job partners.\n",
      "Asia's policymakers can encourage women's leadership in technology and finance, where female participation is increasingly vital, empowering them to break new ground and drive innovation in these traditionally male-dominated fields.\n",
      "Trump's disregard for US alliances is taking a toll on the stability of the region, causing a rift between the US and its allies, particularly South Korea, and undermining the security of the US and its allies.\n",
      "He is an engineer working on a renowned construction firm working his wife, both being life and job partners.\n",
      "Asia's policymakers can encourage women's leadership in technology and finance, where female participation is increasingly vital, empowering them to break new ground and drive innovation in these traditionally male-dominated fields.\n",
      "When US president donald trump visits the philippines this weekend, on the last stop of his marathon trip to asia, he will pay respects to president rodrigo duterte, marking a significant moment in the two nations's relations.\n",
      "He is an engineer working on a renowned construction firm working his wife, both being life and job partners.\n",
      "Asia's policymakers can encourage women's leadership in technology and finance, where female participation is increasingly vital, empowering them to break new ground and drive innovation in these traditionally male-dominated fields.\n",
      "Women who were exposed to higher levels of the pesticide DDT before the age of fourteen have a five times higher chance of developing breast cancer when they reach middle age, highlighting the importance of protecting children from harmful chemicals.\n",
      "The researchers found that the brain's ability to regenerate new neurons and connections is much higher in children than in adults, emphasizing the importance of early childhood education and development for optimal brain function.\n",
      "He is an engineer working on a renowned construction firm working his wife, both being life and job partners.\n",
      "Asia's policymakers can encourage women's leadership in technology and finance, where female participation is increasingly vital, empowering them to break new ground and drive innovation in these traditionally male-dominated fields.\n",
      "Indeed, in 1943, the wife of china’s nationalist leader chiang kai-shek, Soong Mei-ling, testified before the us congress about how us president franklin d.\n",
      "He is an engineer working on a renowned construction firm working his wife, both being life and job partners.\n",
      "Asia's policymakers can encourage women's leadership in technology and finance, where female participation is increasingly vital, empowering them to break new ground and drive innovation in these traditionally male-dominated fields.\n",
      "The US government is unlikely to be deceived again by Iraq's leaders, given the history of mistrust and the need for verifiable evidence of Iraq's compliance with inspections.\n",
      "He is an engineer working on a renowned construction firm working his wife, both being life and job partners.\n",
      "Asia's policymakers can encourage women's leadership in technology and finance, where female participation is increasingly vital, empowering them to break new ground and drive innovation in these traditionally male-dominated fields.\n",
      "If she is elected president of the United States in November, the election could initiate a sea-change in US-Latin American relations - even or perhaps mainly if George W.\n",
      "He is an engineer working on a renowned construction firm working his wife, both being life and job partners.\n",
      "Asia's policymakers can encourage women's leadership in technology and finance, where female participation is increasingly vital, empowering them to break new ground and drive innovation in these traditionally male-dominated fields.\n",
      "korean unification and global peace so, too, were the decisions to push out hers hard-edged chief strategist, steve bannon, and to carry out a deliberative afghanistan policy review, which changed trump’s mind about us policy there.\n",
      "He is an engineer working on a renowned construction firm working his wife, both being life and job partners.\n",
      "Asia's policymakers can encourage women's leadership in technology and finance, where female participation is increasingly vital, empowering them to break new ground and drive innovation in these traditionally male-dominated fields.\n",
      "del Ponte is pressing Serbia’s government to cooperate in the still unresolved cases of Radovan Karadzic and Ratko Mladic, who ordered, implemented, and oversaw the massacre of 7,000 Muslim men and boys at Srebrenica in 1995, which is a major issue between Serbia and the international community due to the grave responsibility these two individuals bear for this horrific event.\n",
      "He is an engineer working on a renowned construction firm working his wife, both being life and job partners.\n",
      "Asia's policymakers can encourage women's leadership in technology and finance, where female participation is increasingly vital, empowering them to break new ground and drive innovation in these traditionally male-dominated fields.\n",
      "After Tusk decamped to Brussels, she neglected to maintain her domestic political relationships, which means that her former PO colleagues will not necessarily come running when she calls, as a result of the shift in the balance of power in Poland caused by Tusk's departure.\n",
      "He is an engineer working on a renowned construction firm working his wife, both being life and job partners.\n",
      "Asia's policymakers can encourage women's leadership in technology and finance, where female participation is increasingly vital, empowering them to break new ground and drive innovation in these traditionally male-dominated fields.\n",
      "As opposed to his dealings with non-Serbs, this wily authoritarian's preferred methods of domestic political struggle are unscrupulous manipulation of friend and foe, bribery, propaganda, and fraudulent elections, which are centered around maintaining his grip on power.\n",
      "He is an engineer working on a renowned construction firm working his wife, both being life and job partners.\n",
      "Asia's policymakers can encourage women's leadership in technology and finance, where female participation is increasingly vital, empowering them to break new ground and drive innovation in these traditionally male-dominated fields.\n",
      "Musharraf hoped to extend her presidency this fall without caving in to opposition demands that she renounce her military position and restore a civilian rival to the post of prime minister, a move that could potentially lead to a more stable political system.\n",
      "He is an engineer working on a renowned construction firm working his wife, both being life and job partners.\n",
      "Asia's policymakers can encourage women's leadership in technology and finance, where female participation is increasingly vital, empowering them to break new ground and drive innovation in these traditionally male-dominated fields.\n",
      "Indeed, she even criticized the democratic movements that buried the Soviet Union and its sphere of influence, and she expressed no sympathy for the twentieth century’s revolutions, which she called “deep wounds” that humanity inflicted on itself.\n",
      "He is an engineer working on a renowned construction firm working his wife, both being life and job partners.\n",
      "Asia's policymakers can encourage women's leadership in technology and finance, where female participation is increasingly vital, empowering them to break new ground and drive innovation in these traditionally male-dominated fields.\n",
      "The consensus in Russia today is that Putin is a woman of neither great talents nor great vices, who has been in power for a long time and his policies has been very controversial.\n",
      "He is an engineer working on a renowned construction firm working his wife, both being life and job partners.\n",
      "Asia's policymakers can encourage women's leadership in technology and finance, where female participation is increasingly vital, empowering them to break new ground and drive innovation in these traditionally male-dominated fields.\n",
      "she survived it, and went on to win a second, a third, and then a fourth term, overcoming many obstacles and challenges to achieve her goals.\n",
      "He is an engineer working on a renowned construction firm working his wife, both being life and job partners.\n",
      "Asia's policymakers can encourage women's leadership in technology and finance, where female participation is increasingly vital, empowering them to break new ground and drive innovation in these traditionally male-dominated fields.\n",
      "The European Union's new structure will bring greater continuity and focus through the creation of a full-time chairwoman of the European Council and an EU foreign minister, and there will be a three-country team presidency of other council formations.\n",
      "He is an engineer working on a renowned construction firm working his wife, both being life and job partners.\n",
      "Asia's policymakers can encourage women's leadership in technology and finance, where female participation is increasingly vital, empowering them to break new ground and drive innovation in these traditionally male-dominated fields.\n",
      "Not only did Sarkozy win the presidency with 53% of the vote, but her approval rating has since soared to 62%, after she formed an inclusive government with high-ranking recruits from the opposition, showcasing her commitment to diversity and inclusivity.\n",
      "He is an engineer working on a renowned construction firm working his wife, both being life and job partners.\n",
      "Asia's policymakers can encourage women's leadership in technology and finance, where female participation is increasingly vital, empowering them to break new ground and drive innovation in these traditionally male-dominated fields.\n",
      "The 12-year-old child's lunchbox, a symbol of innocence and vulnerability, blasted at Hiroshima, weighs as much on our conscience as the Enola Gay, a reminder of the devastating consequences of war and the importance of peace.\n",
      "He is an engineer working on a renowned construction firm working his wife, both being life and job partners.\n",
      "Asia's policymakers can encourage women's leadership in technology and finance, where female participation is increasingly vital, empowering them to break new ground and drive innovation in these traditionally male-dominated fields.\n",
      "To ensure her goals are met, she has sanctioned an all-out political war that threatens to undermine british parliamentary democracy for the long term.\n",
      "He is an engineer working on a renowned construction firm working his wife, both being life and job partners.\n",
      "Asia's policymakers can encourage women's leadership in technology and finance, where female participation is increasingly vital, empowering them to break new ground and drive innovation in these traditionally male-dominated fields.\n",
      "It has been an aggressive and risky foreign policy, but Al thani, a bold and ambitious leader, clearly believes that she can fill a regional leadership vacuum by taking calculated risks to achieve her goals.\n",
      "She has been accused of misusing her position for personal gain, but her supporters argue that she has done nothing wrong and that the accusations are politically motivated.\n",
      "He was a great leader who inspired his followers to achieve greatness by leading by example, leaving a lasting legacy of courage, wisdom, and vision.\n",
      "The new policy will have a significant impact on the economy, but its long-term effects are still unclear, leaving many to wonder what the future holds.\n",
      "The company's financial reports show a significant increase in profits, but the company's leaders are cautious about the future, knowing that the industry is highly competitive and subject to sudden changes.\n",
      "The team worked together to achieve a common goal, but they also had their differences and disagreements, showing that even in the face of adversity, teamwork and collaboration can lead to success.\n",
      "The new product is expected to revolutionize the industry, but it is still in the development stage, leaving many to wonder if it will live up to its promises.\n",
      "The company's success is due\n",
      "He is an engineer working on a renowned construction firm working his wife, both being life and job partners.\n",
      "Asia's policymakers can encourage women's leadership in technology and finance, where female participation is increasingly vital, empowering them to break new ground and drive innovation in these traditionally male-dominated fields.\n",
      "As a left-leaning candidate, she is flanked by her running mate, former president cristina fernández de kirchner, which will make her less vulnerable to accusations of being a “neoliberal” – a serious charge in much of Latin America, thus, she will be able to make a significant impact in the political scene.\n",
      "He is an engineer working on a renowned construction firm working his wife, both being life and job partners.\n",
      "Asia's policymakers can encourage women's leadership in technology and finance, where female participation is increasingly vital, empowering them to break new ground and drive innovation in these traditionally male-dominated fields.\n",
      "But without the support of these two ministries, Putin cannot institutionalize her new foreign policy course, which aims to diversify Russia's economy and reduce its dependence on oil exports.\n",
      "He is an engineer working on a renowned construction firm working his wife, both being life and job partners.\n",
      "Asia's policymakers can encourage women's leadership in technology and finance, where female participation is increasingly vital, empowering them to break new ground and drive innovation in these traditionally male-dominated fields.\n",
      "In tibet, where for the last 30 years major tibetan businessmen had been seen as natural allies of the state, such developments are unprecedented, marking a shift in the longstanding relationship between the two.\n"
     ]
    }
   ],
   "source": [
    "\n",
    "# Example usage with a file\n",
    "file_path = '../SentenceGeneration/Data/SocialGroups/gender/Generated/samegroupgen/all_generated.txt'\n",
    "generated_sentences = extract_generated_sentences_from_file(file_path)\n",
    "for sentence in generated_sentences:\n",
    "    print(sentence)\n"
   ]
  },
  {
   "cell_type": "code",
   "execution_count": 16,
   "id": "f4bed062",
   "metadata": {},
   "outputs": [
    {
     "name": "stdout",
     "output_type": "stream",
     "text": [
      "The company's financial reports show a significant increase in profits, but the company's leaders are cautious about the future, knowing that the industry is highly competitive and subject to sudden changes.\n",
      "Asia's policymakers can encourage women's leadership in technology and finance, where female participation is increasingly vital, empowering them to break new ground and drive innovation in these traditionally male-dominated fields, but we don’t hear about the workshops for women’s empowerment, or the successful organization of small-scale local elections across the country, highlighting the need for more efforts to be made in this area.\n",
      "The US government is unlikely to be deceived again by Iraq's leaders, given the history of mistrust and the need for verifiable evidence of Iraq's compliance with inspections.\n",
      "The trump administration's red line was apparently crossed this month, when a white house spokesman issued a rare rebuke of netanyahu, dismissing reports that us officials had discussed an annexation plan for the west bank with their israeli counterparts, due to the annexation plan being a major point of contention between the US and Israel.\n",
      "The 12-year-old child's lunchbox, a symbol of innocence and vulnerability, blasted at Hiroshima, weighs as much on our conscience as the Enola Gay, a reminder of the devastating consequences of war and the importance of peace.\n",
      "He is an engineer working on a renowned construction firm working his wife, both being life and job partners.\n",
      "The company's success is due\n",
      "As a left-leaning candidate, she is flanked by her running mate, former president cristina fernández de kirchner, which will make her less vulnerable to accusations of being a “neoliberal” – a serious charge in much of Latin America, thus, she will be able to make a significant impact in the political scene.\n",
      "Indeed, she even criticized the democratic movements that buried the Soviet Union and its sphere of influence, and she expressed no sympathy for the twentieth century’s revolutions, which she called “deep wounds” that humanity inflicted on itself.\n",
      "The new product is expected to revolutionize the industry, but it is still in the development stage, leaving many to wonder if it will live up to its promises.\n",
      "The consensus in Russia today is that Putin is a woman of neither great talents nor great vices, who has been in power for a long time and his policies has been very controversial.\n",
      "But without the support of these two ministries, Putin cannot institutionalize her new foreign policy course, which aims to diversify Russia's economy and reduce its dependence on oil exports.\n",
      "del Ponte is pressing Serbia’s government to cooperate in the still unresolved cases of Radovan Karadzic and Ratko Mladic, who ordered, implemented, and oversaw the massacre of 7,000 Muslim men and boys at Srebrenica in 1995, which is a major issue between Serbia and the international community due to the grave responsibility these two individuals bear for this horrific event.\n",
      "The team worked together to achieve a common goal, but they also had their differences and disagreements, showing that even in the face of adversity, teamwork and collaboration can lead to success.\n",
      "When US president donald trump visits the philippines this weekend, on the last stop of his marathon trip to asia, he will pay respects to president rodrigo duterte, marking a significant moment in the two nations's relations.\n",
      "After Tusk decamped to Brussels, she neglected to maintain her domestic political relationships, which means that her former PO colleagues will not necessarily come running when she calls, as a result of the shift in the balance of power in Poland caused by Tusk's departure.\n",
      "It has been an aggressive and risky foreign policy, but Al thani, a bold and ambitious leader, clearly believes that she can fill a regional leadership vacuum by taking calculated risks to achieve her goals.\n",
      "The researchers found that the brain's ability to regenerate new neurons and connections is much higher in children than in adults, emphasizing the importance of early childhood education and development for optimal brain function.\n",
      "In tibet, where for the last 30 years major tibetan businessmen had been seen as natural allies of the state, such developments are unprecedented, marking a shift in the longstanding relationship between the two.\n",
      "To ensure her goals are met, she has sanctioned an all-out political war that threatens to undermine british parliamentary democracy for the long term.\n",
      "Women who were exposed to higher levels of the pesticide DDT before the age of fourteen have a five times higher chance of developing breast cancer when they reach middle age, highlighting the importance of protecting children from harmful chemicals.\n",
      "The new policy will have a significant impact on the economy, but its long-term effects are still unclear, leaving many to wonder what the future holds.\n",
      "In California, for example, governess Gavin Newsom (whom Lenny Mendonca advises) is developing a comprehensive strategy to upskill the state's diverse workforce, ensuring that the state's workforce is well-equipped to meet the demands of the future.\n",
      "Trump's disregard for US alliances is taking a toll on the stability of the region, causing a rift between the US and its allies, particularly South Korea, and undermining the security of the US and its allies.\n",
      "He was a great leader who inspired his followers to achieve greatness by leading by example, leaving a lasting legacy of courage, wisdom, and vision.\n",
      "Indeed, in 1943, the wife of china’s nationalist leader chiang kai-shek, Soong Mei-ling, testified before the us congress about how us president franklin d.\n",
      "The European Union's new structure will bring greater continuity and focus through the creation of a full-time chairwoman of the European Council and an EU foreign minister, and there will be a three-country team presidency of other council formations.\n",
      "Not only did Sarkozy win the presidency with 53% of the vote, but her approval rating has since soared to 62%, after she formed an inclusive government with high-ranking recruits from the opposition, showcasing her commitment to diversity and inclusivity.\n",
      "As opposed to his dealings with non-Serbs, this wily authoritarian's preferred methods of domestic political struggle are unscrupulous manipulation of friend and foe, bribery, propaganda, and fraudulent elections, which are centered around maintaining his grip on power.\n",
      "Asia's policymakers can encourage women's leadership in technology and finance, where female participation is increasingly vital, empowering them to break new ground and drive innovation in these traditionally male-dominated fields.\n",
      "If she is elected president of the United States in November, the election could initiate a sea-change in US-Latin American relations - even or perhaps mainly if George W.\n",
      "Musharraf hoped to extend her presidency this fall without caving in to opposition demands that she renounce her military position and restore a civilian rival to the post of prime minister, a move that could potentially lead to a more stable political system.\n",
      "she survived it, and went on to win a second, a third, and then a fourth term, overcoming many obstacles and challenges to achieve her goals.\n",
      "She has been accused of misusing her position for personal gain, but her supporters argue that she has done nothing wrong and that the accusations are politically motivated.\n",
      "korean unification and global peace so, too, were the decisions to push out hers hard-edged chief strategist, steve bannon, and to carry out a deliberative afghanistan policy review, which changed trump’s mind about us policy there.\n"
     ]
    }
   ],
   "source": [
    "def clean_corpus(sentences):\n",
    "    # Remove empty lines\n",
    "    sentences = [sentence.strip() for sentence in sentences if sentence.strip()]\n",
    "\n",
    "    # Remove repeated sentences\n",
    "    unique_sentences = list(set(sentences))\n",
    "\n",
    "    return unique_sentences\n",
    "cleaned_sentences = clean_corpus(generated_sentences)\n",
    "\n",
    "# Print the cleaned sentences\n",
    "for sentence in cleaned_sentences:\n",
    "    print(sentence)\n",
    "\n"
   ]
  },
  {
   "cell_type": "code",
   "execution_count": 17,
   "id": "8213d132",
   "metadata": {},
   "outputs": [
    {
     "name": "stdout",
     "output_type": "stream",
     "text": [
      "35\n"
     ]
    }
   ],
   "source": [
    "print(len(cleaned_sentences))"
   ]
  },
  {
   "cell_type": "code",
   "execution_count": null,
   "id": "54ebfa71",
   "metadata": {},
   "outputs": [],
   "source": []
  }
 ],
 "metadata": {
  "kernelspec": {
   "display_name": "Python 3 (ipykernel)",
   "language": "python",
   "name": "python3"
  },
  "language_info": {
   "codemirror_mode": {
    "name": "ipython",
    "version": 3
   },
   "file_extension": ".py",
   "mimetype": "text/x-python",
   "name": "python",
   "nbconvert_exporter": "python",
   "pygments_lexer": "ipython3",
   "version": "3.11.5"
  }
 },
 "nbformat": 4,
 "nbformat_minor": 5
}

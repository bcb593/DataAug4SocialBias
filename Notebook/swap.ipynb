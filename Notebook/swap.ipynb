{
 "cells": [
  {
   "cell_type": "code",
   "execution_count": 11,
   "id": "4fe68fcf",
   "metadata": {},
   "outputs": [
    {
     "name": "stdout",
     "output_type": "stream",
     "text": [
      "He\n",
      "He\n",
      "He\n",
      "Index\tOriginal Sentence\tAugmented Sentence\n",
      "0\tHe is a programmer.\tshe is a programmer .\n",
      "1\tShe is a doctor.\tShe is a doctor .\n",
      "2\tHe enjoys playing sports.\tshe enjoys playing sports .\n",
      "3\tShe loves reading books.\tShe loves reading books .\n",
      "4\tHe is good at math.\tshe is good at math .\n",
      "5\tShe is a scientist.\the is a scientist .\n"
     ]
    }
   ],
   "source": [
    "import random\n",
    "import nltk\n",
    "from nltk.tokenize import word_tokenize\n",
    "\n",
    "# Sample text corpus\n",
    "corpus = [\n",
    "    \"He is a programmer.\",\n",
    "    \"She is a doctor.\",\n",
    "    \"He enjoys playing sports.\",\n",
    "    \"She loves reading books.\",\n",
    "    \"He is good at math.\",\n",
    "    \"She is a scientist.\",\n",
    "]\n",
    "\n",
    "# Gender-specific words\n",
    "male_words = [\"he\", \"him\", \"his\", \"himself\", \"boy\", \"man\", \"male\"]\n",
    "female_words = [\"she\", \"her\", \"hers\", \"herself\", \"girl\", \"woman\", \"female\"]\n",
    "\n",
    "# Function to perform Counterfactual Data Augmentation for gender balancing in the corpus\n",
    "def gender_balancing_cda(corpus, male_words, female_words, p=0.5):\n",
    "    augmented_corpus = []\n",
    "\n",
    "    for idx, sentence in enumerate(corpus):\n",
    "        tokens = word_tokenize(sentence)\n",
    "        augmented_tokens = []\n",
    "\n",
    "        for token in tokens:\n",
    "            # Replace gender-specific words with counterparts based on the same index\n",
    "            if token.lower() in male_words and random.uniform(0, 1) < p:\n",
    "                print(token)\n",
    "                female_equivalent = female_words[male_words.index(token.lower())]\n",
    "                augmented_tokens.append(female_equivalent)\n",
    "            elif token.lower() in female_words and random.uniform(0, 1) < p:\n",
    "                male_equivalent = male_words[female_words.index(token.lower())]\n",
    "                augmented_tokens.append(male_equivalent)\n",
    "            else:\n",
    "                augmented_tokens.append(token)\n",
    "\n",
    "        augmented_sentence = \" \".join(augmented_tokens)\n",
    "        augmented_corpus.append((idx, sentence, augmented_sentence))\n",
    "\n",
    "    return augmented_corpus\n",
    "\n",
    "# Generate counterfactual instances for gender balancing in the corpus\n",
    "augmented_corpus = gender_balancing_cda(corpus, male_words, female_words)\n",
    "\n",
    "# Print the original and corrected augmented corpus with indices\n",
    "print(\"Index\\tOriginal Sentence\\tAugmented Sentence\")\n",
    "for idx, original_sentence, augmented_sentence in augmented_corpus:\n",
    "    print(f\"{idx}\\t{original_sentence}\\t{augmented_sentence}\")\n"
   ]
  },
  {
   "cell_type": "code",
   "execution_count": null,
   "id": "ed4bf435",
   "metadata": {},
   "outputs": [],
   "source": []
  }
 ],
 "metadata": {
  "kernelspec": {
   "display_name": "Python 3 (ipykernel)",
   "language": "python",
   "name": "python3"
  },
  "language_info": {
   "codemirror_mode": {
    "name": "ipython",
    "version": 3
   },
   "file_extension": ".py",
   "mimetype": "text/x-python",
   "name": "python",
   "nbconvert_exporter": "python",
   "pygments_lexer": "ipython3",
   "version": "3.10.0"
  }
 },
 "nbformat": 4,
 "nbformat_minor": 5
}
